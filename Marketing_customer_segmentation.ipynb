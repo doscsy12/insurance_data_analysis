{
 "cells": [
  {
   "cell_type": "markdown",
   "id": "da38d46f",
   "metadata": {},
   "source": [
    "## Problem Statement\n",
    "\n",
    "**Using data to have a better understanding of the target customers for insurance purchases.**\n",
    "<br>\n",
    "<br> **What are the features that will distinguish one customer from each other?** The straightforward way to answer this question is using unsupervised learning technique (KMeans clustering). The goal is to group the customer data to different clusters. In such a way, each group/cluster will consist of features that will distinguish one from the other. And this will guide you to estimate how much the yearly/monthly premiums they are willing to pay or what policy the customer would most likely to purchase.  \n",
    "<br> **Identify any seasonal influences in purchasing a product.** They could be seasons/time that will alter a person's willingness to buy. In investigating this, the marketing department can often influence/dictate, how, and when people will spend their money.  "
   ]
  },
  {
   "cell_type": "markdown",
   "id": "71b5b245",
   "metadata": {},
   "source": [
    "### Contents:\n",
    "- [Data](#Data)\n",
    "- [Marketing calendar](#Marketing-calendar)\n",
    "- [Customer segmentation](#Customer-segmentation)\n"
   ]
  },
  {
   "cell_type": "code",
   "execution_count": 1,
   "id": "e885f10a",
   "metadata": {},
   "outputs": [],
   "source": [
    "# Import libraries \n",
    "import numpy as np\n",
    "import pandas as pd\n",
    "import matplotlib.pyplot as plt\n",
    "import matplotlib.patches as mpatches\n",
    "import seaborn as sns\n",
    "import datetime as dt\n",
    "\n",
    "from sklearn.preprocessing import LabelEncoder\n",
    "from statsmodels.tsa.seasonal import seasonal_decompose\n",
    "from sklearn.preprocessing import StandardScaler\n",
    "from sklearn.preprocessing import MinMaxScaler\n",
    "from sklearn.cluster import KMeans\n",
    "from scipy.spatial import distance\n",
    "from sklearn import metrics\n",
    "from mpl_toolkits.mplot3d import Axes3D"
   ]
  },
  {
   "cell_type": "markdown",
   "id": "30b2748b",
   "metadata": {},
   "source": [
    "### Data\n",
    "\n",
    "Import data"
   ]
  },
  {
   "cell_type": "code",
   "execution_count": 2,
   "id": "e7dd03da",
   "metadata": {},
   "outputs": [],
   "source": [
    "data = pd.read_csv('ins_data.csv')"
   ]
  },
  {
   "cell_type": "code",
   "execution_count": 3,
   "id": "c9ccb1d4",
   "metadata": {},
   "outputs": [
    {
     "data": {
      "text/plain": [
       "(16671, 34)"
      ]
     },
     "execution_count": 3,
     "metadata": {},
     "output_type": "execute_result"
    }
   ],
   "source": [
    "data.shape"
   ]
  },
  {
   "cell_type": "code",
   "execution_count": 4,
   "id": "9a83d896",
   "metadata": {},
   "outputs": [
    {
     "data": {
      "text/html": [
       "<div>\n",
       "<style scoped>\n",
       "    .dataframe tbody tr th:only-of-type {\n",
       "        vertical-align: middle;\n",
       "    }\n",
       "\n",
       "    .dataframe tbody tr th {\n",
       "        vertical-align: top;\n",
       "    }\n",
       "\n",
       "    .dataframe thead th {\n",
       "        text-align: right;\n",
       "    }\n",
       "</style>\n",
       "<table border=\"1\" class=\"dataframe\">\n",
       "  <thead>\n",
       "    <tr style=\"text-align: right;\">\n",
       "      <th></th>\n",
       "      <th>Unnamed: 0</th>\n",
       "      <th>policy_ref_dummy</th>\n",
       "      <th>issue_date</th>\n",
       "      <th>st_date</th>\n",
       "      <th>pol_st</th>\n",
       "      <th>product_category</th>\n",
       "      <th>prod_type</th>\n",
       "      <th>basic_cover_type</th>\n",
       "      <th>cover_type</th>\n",
       "      <th>insured_amt</th>\n",
       "      <th>premium</th>\n",
       "      <th>pay_term</th>\n",
       "      <th>pay_method</th>\n",
       "      <th>pay_mode</th>\n",
       "      <th>pay_age</th>\n",
       "      <th>life_to_be_covered_dummy</th>\n",
       "      <th>relationship</th>\n",
       "      <th>relationship_bin</th>\n",
       "      <th>entry_age</th>\n",
       "      <th>gender</th>\n",
       "      <th>occupation_class</th>\n",
       "      <th>height</th>\n",
       "      <th>weight</th>\n",
       "      <th>nationality_dummy</th>\n",
       "      <th>region_dummy</th>\n",
       "      <th>owner_age</th>\n",
       "      <th>owner_gender</th>\n",
       "      <th>class_order</th>\n",
       "      <th>serv_branch_dummy</th>\n",
       "      <th>ANP</th>\n",
       "      <th>bmi</th>\n",
       "      <th>week</th>\n",
       "      <th>month</th>\n",
       "      <th>year</th>\n",
       "    </tr>\n",
       "  </thead>\n",
       "  <tbody>\n",
       "    <tr>\n",
       "      <th>0</th>\n",
       "      <td>1</td>\n",
       "      <td>POLID_3215</td>\n",
       "      <td>2011-06-15</td>\n",
       "      <td>2011-06-08</td>\n",
       "      <td>inforce</td>\n",
       "      <td>Retirement</td>\n",
       "      <td>NUL</td>\n",
       "      <td>ANTICIPATED ENDOWMENT</td>\n",
       "      <td>Basic</td>\n",
       "      <td>500000.00</td>\n",
       "      <td>161515.0</td>\n",
       "      <td>5.0</td>\n",
       "      <td>Annual</td>\n",
       "      <td>Cash/Check</td>\n",
       "      <td>58.0</td>\n",
       "      <td>PART_ID_8104</td>\n",
       "      <td>SELF</td>\n",
       "      <td>SELF</td>\n",
       "      <td>53</td>\n",
       "      <td>F</td>\n",
       "      <td>HOSPITAL, NURSING HOME, CLINIC, ASSYLUM</td>\n",
       "      <td>1.5748</td>\n",
       "      <td>54.00000</td>\n",
       "      <td>NATIONALITY_ID_1</td>\n",
       "      <td>REGION_2</td>\n",
       "      <td>53.0</td>\n",
       "      <td>F</td>\n",
       "      <td>4</td>\n",
       "      <td>SERV_BRANCH_452</td>\n",
       "      <td>161515.0</td>\n",
       "      <td>21.774237</td>\n",
       "      <td>24</td>\n",
       "      <td>6</td>\n",
       "      <td>2011</td>\n",
       "    </tr>\n",
       "    <tr>\n",
       "      <th>1</th>\n",
       "      <td>3</td>\n",
       "      <td>POLID_54</td>\n",
       "      <td>2010-12-14</td>\n",
       "      <td>2010-12-13</td>\n",
       "      <td>inforce</td>\n",
       "      <td>Retirement</td>\n",
       "      <td>NUL</td>\n",
       "      <td>ANTICIPATED ENDOWMENT</td>\n",
       "      <td>Basic</td>\n",
       "      <td>100000.00</td>\n",
       "      <td>26745.0</td>\n",
       "      <td>5.0</td>\n",
       "      <td>Annual</td>\n",
       "      <td>Cash/Check</td>\n",
       "      <td>24.0</td>\n",
       "      <td>PART_ID_5553</td>\n",
       "      <td>DAUGHTER</td>\n",
       "      <td>CHILDREN</td>\n",
       "      <td>19</td>\n",
       "      <td>F</td>\n",
       "      <td>STUDENT</td>\n",
       "      <td>1.5240</td>\n",
       "      <td>45.35920</td>\n",
       "      <td>NATIONALITY_ID_1</td>\n",
       "      <td>REGION_10</td>\n",
       "      <td>50.0</td>\n",
       "      <td>F</td>\n",
       "      <td>10</td>\n",
       "      <td>SERV_BRANCH_600</td>\n",
       "      <td>26745.0</td>\n",
       "      <td>19.529695</td>\n",
       "      <td>50</td>\n",
       "      <td>12</td>\n",
       "      <td>2010</td>\n",
       "    </tr>\n",
       "    <tr>\n",
       "      <th>2</th>\n",
       "      <td>4</td>\n",
       "      <td>POLID_54</td>\n",
       "      <td>2010-12-14</td>\n",
       "      <td>2010-12-13</td>\n",
       "      <td>inforce</td>\n",
       "      <td>Protection</td>\n",
       "      <td>NUL</td>\n",
       "      <td>ACC DEATH &amp; DISMEMBERMENT</td>\n",
       "      <td>Rider</td>\n",
       "      <td>100000.00</td>\n",
       "      <td>443.0</td>\n",
       "      <td>5.0</td>\n",
       "      <td>Annual</td>\n",
       "      <td>Cash/Check</td>\n",
       "      <td>24.0</td>\n",
       "      <td>PART_ID_5553</td>\n",
       "      <td>DAUGHTER</td>\n",
       "      <td>CHILDREN</td>\n",
       "      <td>19</td>\n",
       "      <td>F</td>\n",
       "      <td>STUDENT</td>\n",
       "      <td>1.5240</td>\n",
       "      <td>45.35920</td>\n",
       "      <td>NATIONALITY_ID_1</td>\n",
       "      <td>REGION_10</td>\n",
       "      <td>50.0</td>\n",
       "      <td>F</td>\n",
       "      <td>10</td>\n",
       "      <td>SERV_BRANCH_600</td>\n",
       "      <td>443.0</td>\n",
       "      <td>19.529695</td>\n",
       "      <td>50</td>\n",
       "      <td>12</td>\n",
       "      <td>2010</td>\n",
       "    </tr>\n",
       "    <tr>\n",
       "      <th>3</th>\n",
       "      <td>5</td>\n",
       "      <td>POLID_54</td>\n",
       "      <td>2010-12-14</td>\n",
       "      <td>2010-12-13</td>\n",
       "      <td>inforce</td>\n",
       "      <td>Protection</td>\n",
       "      <td>NUL</td>\n",
       "      <td>LIVING BENEFIT</td>\n",
       "      <td>Rider</td>\n",
       "      <td>100000.00</td>\n",
       "      <td>0.0</td>\n",
       "      <td>0.0</td>\n",
       "      <td>Annual</td>\n",
       "      <td>Cash/Check</td>\n",
       "      <td>19.0</td>\n",
       "      <td>PART_ID_5553</td>\n",
       "      <td>DAUGHTER</td>\n",
       "      <td>CHILDREN</td>\n",
       "      <td>19</td>\n",
       "      <td>F</td>\n",
       "      <td>STUDENT</td>\n",
       "      <td>1.5240</td>\n",
       "      <td>45.35920</td>\n",
       "      <td>NATIONALITY_ID_1</td>\n",
       "      <td>REGION_10</td>\n",
       "      <td>50.0</td>\n",
       "      <td>F</td>\n",
       "      <td>10</td>\n",
       "      <td>SERV_BRANCH_600</td>\n",
       "      <td>0.0</td>\n",
       "      <td>19.529695</td>\n",
       "      <td>50</td>\n",
       "      <td>12</td>\n",
       "      <td>2010</td>\n",
       "    </tr>\n",
       "    <tr>\n",
       "      <th>4</th>\n",
       "      <td>7</td>\n",
       "      <td>POLID_9796</td>\n",
       "      <td>2013-11-05</td>\n",
       "      <td>2013-11-06</td>\n",
       "      <td>inforce</td>\n",
       "      <td>Investment</td>\n",
       "      <td>UL</td>\n",
       "      <td>UNIT LINK</td>\n",
       "      <td>Basic</td>\n",
       "      <td>552125.00</td>\n",
       "      <td>441700.0</td>\n",
       "      <td>1.0</td>\n",
       "      <td>Single Pay</td>\n",
       "      <td>Cash/Check</td>\n",
       "      <td>62.0</td>\n",
       "      <td>PART_ID_5084</td>\n",
       "      <td>SELF</td>\n",
       "      <td>SELF</td>\n",
       "      <td>61</td>\n",
       "      <td>F</td>\n",
       "      <td>LAWYER, ATTORNEY</td>\n",
       "      <td>1.5240</td>\n",
       "      <td>63.50288</td>\n",
       "      <td>NATIONALITY_ID_1</td>\n",
       "      <td>REGION_10</td>\n",
       "      <td>61.0</td>\n",
       "      <td>F</td>\n",
       "      <td>3</td>\n",
       "      <td>SERV_BRANCH_252</td>\n",
       "      <td>44170.0</td>\n",
       "      <td>27.341572</td>\n",
       "      <td>45</td>\n",
       "      <td>11</td>\n",
       "      <td>2013</td>\n",
       "    </tr>\n",
       "    <tr>\n",
       "      <th>5</th>\n",
       "      <td>8</td>\n",
       "      <td>POLID_9803</td>\n",
       "      <td>2013-07-31</td>\n",
       "      <td>2013-08-01</td>\n",
       "      <td>inforce</td>\n",
       "      <td>Investment</td>\n",
       "      <td>UL</td>\n",
       "      <td>UNIT LINK</td>\n",
       "      <td>Basic</td>\n",
       "      <td>375000.00</td>\n",
       "      <td>300000.0</td>\n",
       "      <td>1.0</td>\n",
       "      <td>Single Pay</td>\n",
       "      <td>Cash/Check</td>\n",
       "      <td>61.0</td>\n",
       "      <td>PART_ID_5084</td>\n",
       "      <td>SELF</td>\n",
       "      <td>SELF</td>\n",
       "      <td>60</td>\n",
       "      <td>F</td>\n",
       "      <td>LAWYER,ATTORNEY</td>\n",
       "      <td>1.5240</td>\n",
       "      <td>63.50288</td>\n",
       "      <td>NATIONALITY_ID_1</td>\n",
       "      <td>REGION_10</td>\n",
       "      <td>60.0</td>\n",
       "      <td>F</td>\n",
       "      <td>3</td>\n",
       "      <td>SERV_BRANCH_252</td>\n",
       "      <td>30000.0</td>\n",
       "      <td>27.341572</td>\n",
       "      <td>31</td>\n",
       "      <td>7</td>\n",
       "      <td>2013</td>\n",
       "    </tr>\n",
       "    <tr>\n",
       "      <th>6</th>\n",
       "      <td>9</td>\n",
       "      <td>POLID_8286</td>\n",
       "      <td>2011-09-27</td>\n",
       "      <td>2011-09-28</td>\n",
       "      <td>inforce</td>\n",
       "      <td>Investment</td>\n",
       "      <td>UL</td>\n",
       "      <td>UNIT LINK</td>\n",
       "      <td>Basic</td>\n",
       "      <td>1500000.00</td>\n",
       "      <td>1000000.0</td>\n",
       "      <td>1.0</td>\n",
       "      <td>Single Pay</td>\n",
       "      <td>Cash/Check</td>\n",
       "      <td>35.0</td>\n",
       "      <td>PART_ID_11671</td>\n",
       "      <td>SELF</td>\n",
       "      <td>SELF</td>\n",
       "      <td>34</td>\n",
       "      <td>F</td>\n",
       "      <td>BUSINESSMAN/ / BUSINESSWOMAN</td>\n",
       "      <td>1.6500</td>\n",
       "      <td>50.00000</td>\n",
       "      <td>NATIONALITY_ID_1</td>\n",
       "      <td>REGION_14</td>\n",
       "      <td>34.0</td>\n",
       "      <td>F</td>\n",
       "      <td>2</td>\n",
       "      <td>SERV_BRANCH_314</td>\n",
       "      <td>100000.0</td>\n",
       "      <td>18.365473</td>\n",
       "      <td>39</td>\n",
       "      <td>9</td>\n",
       "      <td>2011</td>\n",
       "    </tr>\n",
       "    <tr>\n",
       "      <th>7</th>\n",
       "      <td>10</td>\n",
       "      <td>POLID_4860</td>\n",
       "      <td>2012-05-08</td>\n",
       "      <td>2012-05-09</td>\n",
       "      <td>inforce</td>\n",
       "      <td>Protection</td>\n",
       "      <td>UL</td>\n",
       "      <td>TERM LIFE</td>\n",
       "      <td>Basic</td>\n",
       "      <td>312500.00</td>\n",
       "      <td>250000.0</td>\n",
       "      <td>1.0</td>\n",
       "      <td>Single Pay</td>\n",
       "      <td>Cash/Check</td>\n",
       "      <td>43.0</td>\n",
       "      <td>PART_ID_7097</td>\n",
       "      <td>SELF</td>\n",
       "      <td>SELF</td>\n",
       "      <td>42</td>\n",
       "      <td>F</td>\n",
       "      <td>BUSINESSMAN/ / BUSINESSWOMAN</td>\n",
       "      <td>1.4986</td>\n",
       "      <td>49.89512</td>\n",
       "      <td>NATIONALITY_ID_1</td>\n",
       "      <td>REGION_12</td>\n",
       "      <td>42.0</td>\n",
       "      <td>F</td>\n",
       "      <td>2</td>\n",
       "      <td>SERV_BRANCH_132</td>\n",
       "      <td>25000.0</td>\n",
       "      <td>22.217061</td>\n",
       "      <td>19</td>\n",
       "      <td>5</td>\n",
       "      <td>2012</td>\n",
       "    </tr>\n",
       "    <tr>\n",
       "      <th>8</th>\n",
       "      <td>11</td>\n",
       "      <td>POLID_8348</td>\n",
       "      <td>2011-09-27</td>\n",
       "      <td>2011-09-28</td>\n",
       "      <td>inforce</td>\n",
       "      <td>Investment</td>\n",
       "      <td>UL</td>\n",
       "      <td>UNIT LINK</td>\n",
       "      <td>Basic</td>\n",
       "      <td>312500.00</td>\n",
       "      <td>250000.0</td>\n",
       "      <td>1.0</td>\n",
       "      <td>Single Pay</td>\n",
       "      <td>Cash/Check</td>\n",
       "      <td>57.0</td>\n",
       "      <td>PART_ID_13535</td>\n",
       "      <td>SELF</td>\n",
       "      <td>SELF</td>\n",
       "      <td>56</td>\n",
       "      <td>M</td>\n",
       "      <td>BUSINESSMAN/ / BUSINESSWOMAN</td>\n",
       "      <td>1.7272</td>\n",
       "      <td>74.84268</td>\n",
       "      <td>NATIONALITY_ID_1</td>\n",
       "      <td>REGION_3</td>\n",
       "      <td>56.0</td>\n",
       "      <td>M</td>\n",
       "      <td>2</td>\n",
       "      <td>SERV_BRANCH_198</td>\n",
       "      <td>25000.0</td>\n",
       "      <td>25.087886</td>\n",
       "      <td>39</td>\n",
       "      <td>9</td>\n",
       "      <td>2011</td>\n",
       "    </tr>\n",
       "    <tr>\n",
       "      <th>9</th>\n",
       "      <td>12</td>\n",
       "      <td>POLID_3017</td>\n",
       "      <td>2015-10-15</td>\n",
       "      <td>2015-10-02</td>\n",
       "      <td>inforce</td>\n",
       "      <td>Retirement</td>\n",
       "      <td>NUL</td>\n",
       "      <td>ANTICIPATED ENDOWMENT</td>\n",
       "      <td>Basic</td>\n",
       "      <td>379738.37</td>\n",
       "      <td>50000.0</td>\n",
       "      <td>10.0</td>\n",
       "      <td>Annual</td>\n",
       "      <td>Cash/Check</td>\n",
       "      <td>38.0</td>\n",
       "      <td>PART_ID_10102</td>\n",
       "      <td>SELF</td>\n",
       "      <td>SELF</td>\n",
       "      <td>28</td>\n",
       "      <td>F</td>\n",
       "      <td>BUSINESSMAN/ / BUSINESSWOMAN</td>\n",
       "      <td>1.5748</td>\n",
       "      <td>49.89512</td>\n",
       "      <td>NATIONALITY_ID_1</td>\n",
       "      <td>REGION_15</td>\n",
       "      <td>28.0</td>\n",
       "      <td>F</td>\n",
       "      <td>2</td>\n",
       "      <td>SERV_BRANCH_70</td>\n",
       "      <td>50000.0</td>\n",
       "      <td>20.119040</td>\n",
       "      <td>42</td>\n",
       "      <td>10</td>\n",
       "      <td>2015</td>\n",
       "    </tr>\n",
       "  </tbody>\n",
       "</table>\n",
       "</div>"
      ],
      "text/plain": [
       "   Unnamed: 0 policy_ref_dummy  issue_date     st_date   pol_st  \\\n",
       "0           1       POLID_3215  2011-06-15  2011-06-08  inforce   \n",
       "1           3         POLID_54  2010-12-14  2010-12-13  inforce   \n",
       "2           4         POLID_54  2010-12-14  2010-12-13  inforce   \n",
       "3           5         POLID_54  2010-12-14  2010-12-13  inforce   \n",
       "4           7       POLID_9796  2013-11-05  2013-11-06  inforce   \n",
       "5           8       POLID_9803  2013-07-31  2013-08-01  inforce   \n",
       "6           9       POLID_8286  2011-09-27  2011-09-28  inforce   \n",
       "7          10       POLID_4860  2012-05-08  2012-05-09  inforce   \n",
       "8          11       POLID_8348  2011-09-27  2011-09-28  inforce   \n",
       "9          12       POLID_3017  2015-10-15  2015-10-02  inforce   \n",
       "\n",
       "  product_category prod_type           basic_cover_type cover_type  \\\n",
       "0       Retirement       NUL      ANTICIPATED ENDOWMENT      Basic   \n",
       "1       Retirement       NUL      ANTICIPATED ENDOWMENT      Basic   \n",
       "2       Protection       NUL  ACC DEATH & DISMEMBERMENT      Rider   \n",
       "3       Protection       NUL             LIVING BENEFIT      Rider   \n",
       "4       Investment        UL                  UNIT LINK      Basic   \n",
       "5       Investment        UL                  UNIT LINK      Basic   \n",
       "6       Investment        UL                  UNIT LINK      Basic   \n",
       "7       Protection        UL                  TERM LIFE      Basic   \n",
       "8       Investment        UL                  UNIT LINK      Basic   \n",
       "9       Retirement       NUL      ANTICIPATED ENDOWMENT      Basic   \n",
       "\n",
       "   insured_amt    premium  pay_term  pay_method    pay_mode  pay_age  \\\n",
       "0    500000.00   161515.0       5.0      Annual  Cash/Check     58.0   \n",
       "1    100000.00    26745.0       5.0      Annual  Cash/Check     24.0   \n",
       "2    100000.00      443.0       5.0      Annual  Cash/Check     24.0   \n",
       "3    100000.00        0.0       0.0      Annual  Cash/Check     19.0   \n",
       "4    552125.00   441700.0       1.0  Single Pay  Cash/Check     62.0   \n",
       "5    375000.00   300000.0       1.0  Single Pay  Cash/Check     61.0   \n",
       "6   1500000.00  1000000.0       1.0  Single Pay  Cash/Check     35.0   \n",
       "7    312500.00   250000.0       1.0  Single Pay  Cash/Check     43.0   \n",
       "8    312500.00   250000.0       1.0  Single Pay  Cash/Check     57.0   \n",
       "9    379738.37    50000.0      10.0      Annual  Cash/Check     38.0   \n",
       "\n",
       "  life_to_be_covered_dummy relationship relationship_bin  entry_age gender  \\\n",
       "0             PART_ID_8104         SELF             SELF         53      F   \n",
       "1             PART_ID_5553     DAUGHTER         CHILDREN         19      F   \n",
       "2             PART_ID_5553     DAUGHTER         CHILDREN         19      F   \n",
       "3             PART_ID_5553     DAUGHTER         CHILDREN         19      F   \n",
       "4             PART_ID_5084         SELF             SELF         61      F   \n",
       "5             PART_ID_5084         SELF             SELF         60      F   \n",
       "6            PART_ID_11671         SELF             SELF         34      F   \n",
       "7             PART_ID_7097         SELF             SELF         42      F   \n",
       "8            PART_ID_13535         SELF             SELF         56      M   \n",
       "9            PART_ID_10102         SELF             SELF         28      F   \n",
       "\n",
       "                          occupation_class  height    weight  \\\n",
       "0  HOSPITAL, NURSING HOME, CLINIC, ASSYLUM  1.5748  54.00000   \n",
       "1                                  STUDENT  1.5240  45.35920   \n",
       "2                                  STUDENT  1.5240  45.35920   \n",
       "3                                  STUDENT  1.5240  45.35920   \n",
       "4                         LAWYER, ATTORNEY  1.5240  63.50288   \n",
       "5                          LAWYER,ATTORNEY  1.5240  63.50288   \n",
       "6             BUSINESSMAN/ / BUSINESSWOMAN  1.6500  50.00000   \n",
       "7             BUSINESSMAN/ / BUSINESSWOMAN  1.4986  49.89512   \n",
       "8             BUSINESSMAN/ / BUSINESSWOMAN  1.7272  74.84268   \n",
       "9             BUSINESSMAN/ / BUSINESSWOMAN  1.5748  49.89512   \n",
       "\n",
       "  nationality_dummy region_dummy  owner_age owner_gender  class_order  \\\n",
       "0  NATIONALITY_ID_1     REGION_2       53.0            F            4   \n",
       "1  NATIONALITY_ID_1    REGION_10       50.0            F           10   \n",
       "2  NATIONALITY_ID_1    REGION_10       50.0            F           10   \n",
       "3  NATIONALITY_ID_1    REGION_10       50.0            F           10   \n",
       "4  NATIONALITY_ID_1    REGION_10       61.0            F            3   \n",
       "5  NATIONALITY_ID_1    REGION_10       60.0            F            3   \n",
       "6  NATIONALITY_ID_1    REGION_14       34.0            F            2   \n",
       "7  NATIONALITY_ID_1    REGION_12       42.0            F            2   \n",
       "8  NATIONALITY_ID_1     REGION_3       56.0            M            2   \n",
       "9  NATIONALITY_ID_1    REGION_15       28.0            F            2   \n",
       "\n",
       "  serv_branch_dummy       ANP        bmi  week  month  year  \n",
       "0   SERV_BRANCH_452  161515.0  21.774237    24      6  2011  \n",
       "1   SERV_BRANCH_600   26745.0  19.529695    50     12  2010  \n",
       "2   SERV_BRANCH_600     443.0  19.529695    50     12  2010  \n",
       "3   SERV_BRANCH_600       0.0  19.529695    50     12  2010  \n",
       "4   SERV_BRANCH_252   44170.0  27.341572    45     11  2013  \n",
       "5   SERV_BRANCH_252   30000.0  27.341572    31      7  2013  \n",
       "6   SERV_BRANCH_314  100000.0  18.365473    39      9  2011  \n",
       "7   SERV_BRANCH_132   25000.0  22.217061    19      5  2012  \n",
       "8   SERV_BRANCH_198   25000.0  25.087886    39      9  2011  \n",
       "9    SERV_BRANCH_70   50000.0  20.119040    42     10  2015  "
      ]
     },
     "execution_count": 4,
     "metadata": {},
     "output_type": "execute_result"
    }
   ],
   "source": [
    "pd.set_option('display.max_columns', 50)\n",
    "data.head(10)"
   ]
  },
  {
   "cell_type": "code",
   "execution_count": 5,
   "id": "e2c66358",
   "metadata": {},
   "outputs": [
    {
     "name": "stdout",
     "output_type": "stream",
     "text": [
      "<class 'pandas.core.frame.DataFrame'>\n",
      "RangeIndex: 16671 entries, 0 to 16670\n",
      "Data columns (total 34 columns):\n",
      " #   Column                    Non-Null Count  Dtype  \n",
      "---  ------                    --------------  -----  \n",
      " 0   Unnamed: 0                16671 non-null  int64  \n",
      " 1   policy_ref_dummy          16671 non-null  object \n",
      " 2   issue_date                16671 non-null  object \n",
      " 3   st_date                   16671 non-null  object \n",
      " 4   pol_st                    16671 non-null  object \n",
      " 5   product_category          16671 non-null  object \n",
      " 6   prod_type                 16671 non-null  object \n",
      " 7   basic_cover_type          16671 non-null  object \n",
      " 8   cover_type                16671 non-null  object \n",
      " 9   insured_amt               16671 non-null  float64\n",
      " 10  premium                   16671 non-null  float64\n",
      " 11  pay_term                  16671 non-null  float64\n",
      " 12  pay_method                16671 non-null  object \n",
      " 13  pay_mode                  16671 non-null  object \n",
      " 14  pay_age                   16671 non-null  float64\n",
      " 15  life_to_be_covered_dummy  16671 non-null  object \n",
      " 16  relationship              16671 non-null  object \n",
      " 17  relationship_bin          16671 non-null  object \n",
      " 18  entry_age                 16671 non-null  int64  \n",
      " 19  gender                    16671 non-null  object \n",
      " 20  occupation_class          16671 non-null  object \n",
      " 21  height                    16671 non-null  float64\n",
      " 22  weight                    16671 non-null  float64\n",
      " 23  nationality_dummy         16671 non-null  object \n",
      " 24  region_dummy              16671 non-null  object \n",
      " 25  owner_age                 16671 non-null  float64\n",
      " 26  owner_gender              16671 non-null  object \n",
      " 27  class_order               16671 non-null  int64  \n",
      " 28  serv_branch_dummy         16671 non-null  object \n",
      " 29  ANP                       16671 non-null  float64\n",
      " 30  bmi                       16671 non-null  float64\n",
      " 31  week                      16671 non-null  int64  \n",
      " 32  month                     16671 non-null  int64  \n",
      " 33  year                      16671 non-null  int64  \n",
      "dtypes: float64(9), int64(6), object(19)\n",
      "memory usage: 4.3+ MB\n"
     ]
    }
   ],
   "source": [
    "data.info()"
   ]
  },
  {
   "cell_type": "code",
   "execution_count": 6,
   "id": "cbeea77b",
   "metadata": {},
   "outputs": [
    {
     "data": {
      "text/plain": [
       "Unnamed: 0                  0\n",
       "policy_ref_dummy            0\n",
       "issue_date                  0\n",
       "st_date                     0\n",
       "pol_st                      0\n",
       "product_category            0\n",
       "prod_type                   0\n",
       "basic_cover_type            0\n",
       "cover_type                  0\n",
       "insured_amt                 0\n",
       "premium                     0\n",
       "pay_term                    0\n",
       "pay_method                  0\n",
       "pay_mode                    0\n",
       "pay_age                     0\n",
       "life_to_be_covered_dummy    0\n",
       "relationship                0\n",
       "relationship_bin            0\n",
       "entry_age                   0\n",
       "gender                      0\n",
       "occupation_class            0\n",
       "height                      0\n",
       "weight                      0\n",
       "nationality_dummy           0\n",
       "region_dummy                0\n",
       "owner_age                   0\n",
       "owner_gender                0\n",
       "class_order                 0\n",
       "serv_branch_dummy           0\n",
       "ANP                         0\n",
       "bmi                         0\n",
       "week                        0\n",
       "month                       0\n",
       "year                        0\n",
       "dtype: int64"
      ]
     },
     "execution_count": 6,
     "metadata": {},
     "output_type": "execute_result"
    }
   ],
   "source": [
    "data.isnull().sum()"
   ]
  },
  {
   "cell_type": "markdown",
   "id": "0ff5f53d",
   "metadata": {},
   "source": [
    "### Marketing calendar"
   ]
  },
  {
   "cell_type": "markdown",
   "id": "39e95131",
   "metadata": {},
   "source": [
    "How to know if there is seasonality (additive or multiplicative) in the dataset? "
   ]
  },
  {
   "cell_type": "code",
   "execution_count": 7,
   "id": "7cab0cfd",
   "metadata": {},
   "outputs": [],
   "source": [
    "# label_encode product category\n",
    "label_encoder = LabelEncoder()\n",
    "data['product_num'] = label_encoder.fit_transform(data['product_category'])"
   ]
  },
  {
   "cell_type": "markdown",
   "id": "453a8085",
   "metadata": {},
   "source": [
    "0 - health\n",
    "<br> 1 - investment\n",
    "<br>2 - protection\n",
    "<br>3 - retirement\n",
    "<br>4 - savings"
   ]
  },
  {
   "cell_type": "code",
   "execution_count": 8,
   "id": "f7965ac9",
   "metadata": {},
   "outputs": [],
   "source": [
    "tsa_analysis = data[['issue_date','product_num']].copy()"
   ]
  },
  {
   "cell_type": "code",
   "execution_count": 9,
   "id": "16de6111",
   "metadata": {},
   "outputs": [],
   "source": [
    "tsa_analysis.set_index('issue_date',inplace=True)\n",
    "analysis = tsa_analysis[['product_num']].copy()\n",
    "analysis = analysis[analysis['product_num']>0]"
   ]
  },
  {
   "cell_type": "code",
   "execution_count": 10,
   "id": "88299050",
   "metadata": {},
   "outputs": [],
   "source": [
    "decompose_result_mult = seasonal_decompose(analysis,model='multiplicative',period=1)"
   ]
  },
  {
   "cell_type": "code",
   "execution_count": 11,
   "id": "b6d8a466",
   "metadata": {},
   "outputs": [
    {
     "data": {
      "image/png": "[encoded data removed]",
      "text/plain": [
       "<Figure size 432x288 with 4 Axes>"
      ]
     },
     "metadata": {
      "needs_background": "light"
     },
     "output_type": "display_data"
    }
   ],
   "source": [
    "trend = decompose_result_mult.trend\n",
    "seasonal = decompose_result_mult.seasonal\n",
    "residual = decompose_result_mult.resid\n",
    "decompose_result_mult.plot();"
   ]
  },
  {
   "cell_type": "code",
   "execution_count": 12,
   "id": "698a1a14",
   "metadata": {},
   "outputs": [
    {
     "data": {
      "image/png": "[encoded data removed]",
      "text/plain": [
       "<Figure size 432x288 with 4 Axes>"
      ]
     },
     "metadata": {
      "needs_background": "light"
     },
     "output_type": "display_data"
    }
   ],
   "source": [
    "decompose_result_add = seasonal_decompose(analysis,model='additive',period=1)\n",
    "decompose_result_add.plot();"
   ]
  },
  {
   "cell_type": "code",
   "execution_count": 13,
   "id": "ab0e33c9",
   "metadata": {},
   "outputs": [
    {
     "data": {
      "image/png": "[encoded data removed]",
      "text/plain": [
       "<Figure size 432x288 with 1 Axes>"
      ]
     },
     "metadata": {
      "needs_background": "light"
     },
     "output_type": "display_data"
    }
   ],
   "source": [
    "decompose_result_add.seasonal.plot();\n",
    "plt.xticks([]);\n",
    "plt.xlabel('Issue date (2010-2016)')\n",
    "plt.ylabel('Seasonal')\n",
    "plt.title('Seasonal influences in ANP');"
   ]
  },
  {
   "cell_type": "markdown",
   "id": "c5c32229",
   "metadata": {},
   "source": [
    "**product category by week**"
   ]
  },
  {
   "cell_type": "code",
   "execution_count": 14,
   "id": "1660114a",
   "metadata": {},
   "outputs": [
    {
     "data": {
      "text/html": [
       "<div>\n",
       "<style scoped>\n",
       "    .dataframe tbody tr th:only-of-type {\n",
       "        vertical-align: middle;\n",
       "    }\n",
       "\n",
       "    .dataframe tbody tr th {\n",
       "        vertical-align: top;\n",
       "    }\n",
       "\n",
       "    .dataframe thead th {\n",
       "        text-align: right;\n",
       "    }\n",
       "</style>\n",
       "<table border=\"1\" class=\"dataframe\">\n",
       "  <thead>\n",
       "    <tr style=\"text-align: right;\">\n",
       "      <th></th>\n",
       "      <th>week</th>\n",
       "      <th>product_num</th>\n",
       "      <th>month</th>\n",
       "      <th>year</th>\n",
       "      <th>ANP</th>\n",
       "    </tr>\n",
       "  </thead>\n",
       "  <tbody>\n",
       "    <tr>\n",
       "      <th>0</th>\n",
       "      <td>1</td>\n",
       "      <td>871</td>\n",
       "      <td>461</td>\n",
       "      <td>728326</td>\n",
       "      <td>1.683885e+07</td>\n",
       "    </tr>\n",
       "    <tr>\n",
       "      <th>1</th>\n",
       "      <td>2</td>\n",
       "      <td>458</td>\n",
       "      <td>224</td>\n",
       "      <td>450956</td>\n",
       "      <td>9.660095e+06</td>\n",
       "    </tr>\n",
       "    <tr>\n",
       "      <th>2</th>\n",
       "      <td>3</td>\n",
       "      <td>442</td>\n",
       "      <td>207</td>\n",
       "      <td>416632</td>\n",
       "      <td>7.750650e+06</td>\n",
       "    </tr>\n",
       "    <tr>\n",
       "      <th>3</th>\n",
       "      <td>4</td>\n",
       "      <td>535</td>\n",
       "      <td>248</td>\n",
       "      <td>499215</td>\n",
       "      <td>9.901785e+06</td>\n",
       "    </tr>\n",
       "    <tr>\n",
       "      <th>4</th>\n",
       "      <td>5</td>\n",
       "      <td>896</td>\n",
       "      <td>671</td>\n",
       "      <td>800799</td>\n",
       "      <td>1.924647e+07</td>\n",
       "    </tr>\n",
       "    <tr>\n",
       "      <th>5</th>\n",
       "      <td>6</td>\n",
       "      <td>473</td>\n",
       "      <td>432</td>\n",
       "      <td>434808</td>\n",
       "      <td>8.278534e+06</td>\n",
       "    </tr>\n",
       "    <tr>\n",
       "      <th>6</th>\n",
       "      <td>7</td>\n",
       "      <td>499</td>\n",
       "      <td>460</td>\n",
       "      <td>462975</td>\n",
       "      <td>9.825304e+06</td>\n",
       "    </tr>\n",
       "    <tr>\n",
       "      <th>7</th>\n",
       "      <td>8</td>\n",
       "      <td>479</td>\n",
       "      <td>450</td>\n",
       "      <td>452864</td>\n",
       "      <td>1.001534e+07</td>\n",
       "    </tr>\n",
       "    <tr>\n",
       "      <th>8</th>\n",
       "      <td>9</td>\n",
       "      <td>866</td>\n",
       "      <td>992</td>\n",
       "      <td>795012</td>\n",
       "      <td>1.990126e+07</td>\n",
       "    </tr>\n",
       "    <tr>\n",
       "      <th>9</th>\n",
       "      <td>10</td>\n",
       "      <td>358</td>\n",
       "      <td>549</td>\n",
       "      <td>368385</td>\n",
       "      <td>8.242585e+06</td>\n",
       "    </tr>\n",
       "    <tr>\n",
       "      <th>10</th>\n",
       "      <td>11</td>\n",
       "      <td>458</td>\n",
       "      <td>678</td>\n",
       "      <td>454874</td>\n",
       "      <td>1.027738e+07</td>\n",
       "    </tr>\n",
       "    <tr>\n",
       "      <th>11</th>\n",
       "      <td>12</td>\n",
       "      <td>485</td>\n",
       "      <td>693</td>\n",
       "      <td>465040</td>\n",
       "      <td>8.581450e+06</td>\n",
       "    </tr>\n",
       "    <tr>\n",
       "      <th>12</th>\n",
       "      <td>13</td>\n",
       "      <td>417</td>\n",
       "      <td>688</td>\n",
       "      <td>457039</td>\n",
       "      <td>1.035680e+07</td>\n",
       "    </tr>\n",
       "    <tr>\n",
       "      <th>13</th>\n",
       "      <td>14</td>\n",
       "      <td>594</td>\n",
       "      <td>1048</td>\n",
       "      <td>577741</td>\n",
       "      <td>1.264731e+07</td>\n",
       "    </tr>\n",
       "    <tr>\n",
       "      <th>14</th>\n",
       "      <td>15</td>\n",
       "      <td>717</td>\n",
       "      <td>1288</td>\n",
       "      <td>648247</td>\n",
       "      <td>1.529265e+07</td>\n",
       "    </tr>\n",
       "    <tr>\n",
       "      <th>15</th>\n",
       "      <td>16</td>\n",
       "      <td>467</td>\n",
       "      <td>1116</td>\n",
       "      <td>561931</td>\n",
       "      <td>1.553367e+07</td>\n",
       "    </tr>\n",
       "    <tr>\n",
       "      <th>16</th>\n",
       "      <td>17</td>\n",
       "      <td>735</td>\n",
       "      <td>1368</td>\n",
       "      <td>688386</td>\n",
       "      <td>1.218160e+07</td>\n",
       "    </tr>\n",
       "    <tr>\n",
       "      <th>17</th>\n",
       "      <td>18</td>\n",
       "      <td>440</td>\n",
       "      <td>945</td>\n",
       "      <td>408501</td>\n",
       "      <td>7.375282e+06</td>\n",
       "    </tr>\n",
       "    <tr>\n",
       "      <th>18</th>\n",
       "      <td>19</td>\n",
       "      <td>1541</td>\n",
       "      <td>3840</td>\n",
       "      <td>1545442</td>\n",
       "      <td>3.870025e+07</td>\n",
       "    </tr>\n",
       "    <tr>\n",
       "      <th>19</th>\n",
       "      <td>20</td>\n",
       "      <td>411</td>\n",
       "      <td>990</td>\n",
       "      <td>398562</td>\n",
       "      <td>8.107738e+06</td>\n",
       "    </tr>\n",
       "    <tr>\n",
       "      <th>20</th>\n",
       "      <td>21</td>\n",
       "      <td>539</td>\n",
       "      <td>1365</td>\n",
       "      <td>549574</td>\n",
       "      <td>1.160776e+07</td>\n",
       "    </tr>\n",
       "    <tr>\n",
       "      <th>21</th>\n",
       "      <td>22</td>\n",
       "      <td>701</td>\n",
       "      <td>1764</td>\n",
       "      <td>666080</td>\n",
       "      <td>1.309435e+07</td>\n",
       "    </tr>\n",
       "    <tr>\n",
       "      <th>22</th>\n",
       "      <td>23</td>\n",
       "      <td>500</td>\n",
       "      <td>1458</td>\n",
       "      <td>489166</td>\n",
       "      <td>7.772507e+06</td>\n",
       "    </tr>\n",
       "    <tr>\n",
       "      <th>23</th>\n",
       "      <td>24</td>\n",
       "      <td>450</td>\n",
       "      <td>1308</td>\n",
       "      <td>438835</td>\n",
       "      <td>8.444607e+06</td>\n",
       "    </tr>\n",
       "    <tr>\n",
       "      <th>24</th>\n",
       "      <td>25</td>\n",
       "      <td>411</td>\n",
       "      <td>1254</td>\n",
       "      <td>420838</td>\n",
       "      <td>9.213805e+06</td>\n",
       "    </tr>\n",
       "    <tr>\n",
       "      <th>25</th>\n",
       "      <td>26</td>\n",
       "      <td>973</td>\n",
       "      <td>2930</td>\n",
       "      <td>933801</td>\n",
       "      <td>1.996113e+07</td>\n",
       "    </tr>\n",
       "    <tr>\n",
       "      <th>26</th>\n",
       "      <td>27</td>\n",
       "      <td>654</td>\n",
       "      <td>2264</td>\n",
       "      <td>674334</td>\n",
       "      <td>1.518586e+07</td>\n",
       "    </tr>\n",
       "    <tr>\n",
       "      <th>27</th>\n",
       "      <td>28</td>\n",
       "      <td>509</td>\n",
       "      <td>1820</td>\n",
       "      <td>523490</td>\n",
       "      <td>1.165392e+07</td>\n",
       "    </tr>\n",
       "    <tr>\n",
       "      <th>28</th>\n",
       "      <td>29</td>\n",
       "      <td>415</td>\n",
       "      <td>1568</td>\n",
       "      <td>451101</td>\n",
       "      <td>1.078233e+07</td>\n",
       "    </tr>\n",
       "    <tr>\n",
       "      <th>29</th>\n",
       "      <td>30</td>\n",
       "      <td>567</td>\n",
       "      <td>2002</td>\n",
       "      <td>575654</td>\n",
       "      <td>1.291813e+07</td>\n",
       "    </tr>\n",
       "    <tr>\n",
       "      <th>30</th>\n",
       "      <td>31</td>\n",
       "      <td>1389</td>\n",
       "      <td>6940</td>\n",
       "      <td>1921988</td>\n",
       "      <td>6.415763e+07</td>\n",
       "    </tr>\n",
       "    <tr>\n",
       "      <th>31</th>\n",
       "      <td>32</td>\n",
       "      <td>424</td>\n",
       "      <td>1680</td>\n",
       "      <td>422610</td>\n",
       "      <td>8.005043e+06</td>\n",
       "    </tr>\n",
       "    <tr>\n",
       "      <th>32</th>\n",
       "      <td>33</td>\n",
       "      <td>464</td>\n",
       "      <td>1896</td>\n",
       "      <td>476960</td>\n",
       "      <td>1.017049e+07</td>\n",
       "    </tr>\n",
       "    <tr>\n",
       "      <th>33</th>\n",
       "      <td>34</td>\n",
       "      <td>514</td>\n",
       "      <td>1976</td>\n",
       "      <td>496908</td>\n",
       "      <td>1.196225e+07</td>\n",
       "    </tr>\n",
       "    <tr>\n",
       "      <th>34</th>\n",
       "      <td>35</td>\n",
       "      <td>830</td>\n",
       "      <td>3214</td>\n",
       "      <td>752289</td>\n",
       "      <td>1.794426e+07</td>\n",
       "    </tr>\n",
       "    <tr>\n",
       "      <th>35</th>\n",
       "      <td>36</td>\n",
       "      <td>521</td>\n",
       "      <td>2277</td>\n",
       "      <td>509113</td>\n",
       "      <td>7.961868e+06</td>\n",
       "    </tr>\n",
       "    <tr>\n",
       "      <th>36</th>\n",
       "      <td>37</td>\n",
       "      <td>533</td>\n",
       "      <td>2412</td>\n",
       "      <td>539262</td>\n",
       "      <td>1.322211e+07</td>\n",
       "    </tr>\n",
       "    <tr>\n",
       "      <th>37</th>\n",
       "      <td>38</td>\n",
       "      <td>364</td>\n",
       "      <td>1512</td>\n",
       "      <td>338048</td>\n",
       "      <td>9.398850e+06</td>\n",
       "    </tr>\n",
       "    <tr>\n",
       "      <th>38</th>\n",
       "      <td>39</td>\n",
       "      <td>967</td>\n",
       "      <td>5168</td>\n",
       "      <td>1134311</td>\n",
       "      <td>2.429038e+07</td>\n",
       "    </tr>\n",
       "    <tr>\n",
       "      <th>39</th>\n",
       "      <td>40</td>\n",
       "      <td>1142</td>\n",
       "      <td>5795</td>\n",
       "      <td>1215599</td>\n",
       "      <td>3.125012e+07</td>\n",
       "    </tr>\n",
       "    <tr>\n",
       "      <th>40</th>\n",
       "      <td>41</td>\n",
       "      <td>499</td>\n",
       "      <td>2390</td>\n",
       "      <td>480992</td>\n",
       "      <td>1.101542e+07</td>\n",
       "    </tr>\n",
       "    <tr>\n",
       "      <th>41</th>\n",
       "      <td>42</td>\n",
       "      <td>579</td>\n",
       "      <td>3050</td>\n",
       "      <td>613911</td>\n",
       "      <td>1.389244e+07</td>\n",
       "    </tr>\n",
       "    <tr>\n",
       "      <th>42</th>\n",
       "      <td>43</td>\n",
       "      <td>455</td>\n",
       "      <td>2140</td>\n",
       "      <td>430748</td>\n",
       "      <td>8.716112e+06</td>\n",
       "    </tr>\n",
       "    <tr>\n",
       "      <th>43</th>\n",
       "      <td>44</td>\n",
       "      <td>937</td>\n",
       "      <td>4563</td>\n",
       "      <td>867039</td>\n",
       "      <td>2.322664e+07</td>\n",
       "    </tr>\n",
       "    <tr>\n",
       "      <th>44</th>\n",
       "      <td>45</td>\n",
       "      <td>1007</td>\n",
       "      <td>5962</td>\n",
       "      <td>1091010</td>\n",
       "      <td>2.440231e+07</td>\n",
       "    </tr>\n",
       "    <tr>\n",
       "      <th>45</th>\n",
       "      <td>46</td>\n",
       "      <td>553</td>\n",
       "      <td>2827</td>\n",
       "      <td>517229</td>\n",
       "      <td>1.021190e+07</td>\n",
       "    </tr>\n",
       "    <tr>\n",
       "      <th>46</th>\n",
       "      <td>47</td>\n",
       "      <td>326</td>\n",
       "      <td>1881</td>\n",
       "      <td>344146</td>\n",
       "      <td>7.370198e+06</td>\n",
       "    </tr>\n",
       "    <tr>\n",
       "      <th>47</th>\n",
       "      <td>48</td>\n",
       "      <td>1240</td>\n",
       "      <td>8386</td>\n",
       "      <td>1509179</td>\n",
       "      <td>3.670864e+07</td>\n",
       "    </tr>\n",
       "    <tr>\n",
       "      <th>48</th>\n",
       "      <td>49</td>\n",
       "      <td>1063</td>\n",
       "      <td>5640</td>\n",
       "      <td>945638</td>\n",
       "      <td>2.265208e+07</td>\n",
       "    </tr>\n",
       "    <tr>\n",
       "      <th>49</th>\n",
       "      <td>50</td>\n",
       "      <td>744</td>\n",
       "      <td>4092</td>\n",
       "      <td>686347</td>\n",
       "      <td>1.678010e+07</td>\n",
       "    </tr>\n",
       "    <tr>\n",
       "      <th>50</th>\n",
       "      <td>51</td>\n",
       "      <td>665</td>\n",
       "      <td>3624</td>\n",
       "      <td>607685</td>\n",
       "      <td>1.544600e+07</td>\n",
       "    </tr>\n",
       "    <tr>\n",
       "      <th>51</th>\n",
       "      <td>52</td>\n",
       "      <td>182</td>\n",
       "      <td>1200</td>\n",
       "      <td>201299</td>\n",
       "      <td>4.802579e+06</td>\n",
       "    </tr>\n",
       "    <tr>\n",
       "      <th>52</th>\n",
       "      <td>53</td>\n",
       "      <td>121</td>\n",
       "      <td>660</td>\n",
       "      <td>110825</td>\n",
       "      <td>2.524416e+06</td>\n",
       "    </tr>\n",
       "  </tbody>\n",
       "</table>\n",
       "</div>"
      ],
      "text/plain": [
       "    week  product_num  month     year           ANP\n",
       "0      1          871    461   728326  1.683885e+07\n",
       "1      2          458    224   450956  9.660095e+06\n",
       "2      3          442    207   416632  7.750650e+06\n",
       "3      4          535    248   499215  9.901785e+06\n",
       "4      5          896    671   800799  1.924647e+07\n",
       "5      6          473    432   434808  8.278534e+06\n",
       "6      7          499    460   462975  9.825304e+06\n",
       "7      8          479    450   452864  1.001534e+07\n",
       "8      9          866    992   795012  1.990126e+07\n",
       "9     10          358    549   368385  8.242585e+06\n",
       "10    11          458    678   454874  1.027738e+07\n",
       "11    12          485    693   465040  8.581450e+06\n",
       "12    13          417    688   457039  1.035680e+07\n",
       "13    14          594   1048   577741  1.264731e+07\n",
       "14    15          717   1288   648247  1.529265e+07\n",
       "15    16          467   1116   561931  1.553367e+07\n",
       "16    17          735   1368   688386  1.218160e+07\n",
       "17    18          440    945   408501  7.375282e+06\n",
       "18    19         1541   3840  1545442  3.870025e+07\n",
       "19    20          411    990   398562  8.107738e+06\n",
       "20    21          539   1365   549574  1.160776e+07\n",
       "21    22          701   1764   666080  1.309435e+07\n",
       "22    23          500   1458   489166  7.772507e+06\n",
       "23    24          450   1308   438835  8.444607e+06\n",
       "24    25          411   1254   420838  9.213805e+06\n",
       "25    26          973   2930   933801  1.996113e+07\n",
       "26    27          654   2264   674334  1.518586e+07\n",
       "27    28          509   1820   523490  1.165392e+07\n",
       "28    29          415   1568   451101  1.078233e+07\n",
       "29    30          567   2002   575654  1.291813e+07\n",
       "30    31         1389   6940  1921988  6.415763e+07\n",
       "31    32          424   1680   422610  8.005043e+06\n",
       "32    33          464   1896   476960  1.017049e+07\n",
       "33    34          514   1976   496908  1.196225e+07\n",
       "34    35          830   3214   752289  1.794426e+07\n",
       "35    36          521   2277   509113  7.961868e+06\n",
       "36    37          533   2412   539262  1.322211e+07\n",
       "37    38          364   1512   338048  9.398850e+06\n",
       "38    39          967   5168  1134311  2.429038e+07\n",
       "39    40         1142   5795  1215599  3.125012e+07\n",
       "40    41          499   2390   480992  1.101542e+07\n",
       "41    42          579   3050   613911  1.389244e+07\n",
       "42    43          455   2140   430748  8.716112e+06\n",
       "43    44          937   4563   867039  2.322664e+07\n",
       "44    45         1007   5962  1091010  2.440231e+07\n",
       "45    46          553   2827   517229  1.021190e+07\n",
       "46    47          326   1881   344146  7.370198e+06\n",
       "47    48         1240   8386  1509179  3.670864e+07\n",
       "48    49         1063   5640   945638  2.265208e+07\n",
       "49    50          744   4092   686347  1.678010e+07\n",
       "50    51          665   3624   607685  1.544600e+07\n",
       "51    52          182   1200   201299  4.802579e+06\n",
       "52    53          121    660   110825  2.524416e+06"
      ]
     },
     "execution_count": 14,
     "metadata": {},
     "output_type": "execute_result"
    }
   ],
   "source": [
    "# is product category important? sum by week. \n",
    "product_week = data[['product_num', 'week', 'month', 'year', 'ANP']].groupby(by='week').sum().reset_index()\n",
    "product_week"
   ]
  },
  {
   "cell_type": "code",
   "execution_count": 15,
   "id": "2eff6d0c",
   "metadata": {},
   "outputs": [
    {
     "data": {
      "image/png": "[encoded data removed]",
      "text/plain": [
       "<Figure size 1080x360 with 1 Axes>"
      ]
     },
     "metadata": {
      "needs_background": "light"
     },
     "output_type": "display_data"
    }
   ],
   "source": [
    "week_groups = data.groupby([data['week']])['product_category'].count()\n",
    "week_groups.plot(kind='bar',figsize=(15,5),legend=None);\n",
    "plt.title('Total number of products bought each week');"
   ]
  },
  {
   "cell_type": "markdown",
   "id": "f738deb9",
   "metadata": {},
   "source": [
    "**product category by month**"
   ]
  },
  {
   "cell_type": "code",
   "execution_count": 16,
   "id": "54f4842a",
   "metadata": {},
   "outputs": [
    {
     "data": {
      "image/png": "[encoded data removed]",
      "text/plain": [
       "<Figure size 1080x360 with 1 Axes>"
      ]
     },
     "metadata": {
      "needs_background": "light"
     },
     "output_type": "display_data"
    }
   ],
   "source": [
    "month_groups = data.groupby([data['month']])['product_category'].count()\n",
    "month_groups.plot(kind='bar',figsize=(15,5),legend=None);\n",
    "plt.title('Total number of products bought each month');"
   ]
  },
  {
   "cell_type": "markdown",
   "id": "78141f14",
   "metadata": {},
   "source": [
    "**product category by year**"
   ]
  },
  {
   "cell_type": "code",
   "execution_count": 17,
   "id": "1d96c504",
   "metadata": {},
   "outputs": [
    {
     "data": {
      "image/png": "[encoded data removed]",
      "text/plain": [
       "<Figure size 1080x360 with 1 Axes>"
      ]
     },
     "metadata": {
      "needs_background": "light"
     },
     "output_type": "display_data"
    }
   ],
   "source": [
    "year_groups = data.groupby([data['year']])['product_category'].count()\n",
    "year_groups.plot(kind='bar',figsize=(15,5),legend=None);\n",
    "plt.title('Total number of products bought by year');"
   ]
  },
  {
   "cell_type": "code",
   "execution_count": 18,
   "id": "23e56cfe",
   "metadata": {},
   "outputs": [
    {
     "data": {
      "image/png": "[encoded data removed]",
      "text/plain": [
       "<Figure size 1080x360 with 1 Axes>"
      ]
     },
     "metadata": {
      "needs_background": "light"
     },
     "output_type": "display_data"
    }
   ],
   "source": [
    "data[data['product_category'] == 'Investment'][['month','year']].groupby(['year','month']).size().plot(kind='bar',figsize=(15,5));\n",
    "plt.xlabel('month/year',fontsize=10);\n",
    "plt.xticks(rotation='90',fontsize=10);\n",
    "plt.ylabel('number of investment policy',fontsize=10)\n",
    "plt.title('number of Investment products bought by month and year',fontsize=15); "
   ]
  },
  {
   "cell_type": "code",
   "execution_count": 19,
   "id": "f60d7f0a",
   "metadata": {},
   "outputs": [
    {
     "data": {
      "image/png": "[encoded data removed]",
      "text/plain": [
       "<Figure size 1080x360 with 1 Axes>"
      ]
     },
     "metadata": {
      "needs_background": "light"
     },
     "output_type": "display_data"
    }
   ],
   "source": [
    "data[data['product_category'] == 'Retirement'][['month','year']].groupby(['year','month']).size().plot(kind='bar',figsize=(15,5));\n",
    "plt.xlabel('month/year',fontsize=10);\n",
    "plt.xticks(rotation='90',fontsize=10);\n",
    "plt.ylabel('number of retirement policy',fontsize=10)\n",
    "plt.title('number of retirement products bought by month and year',fontsize=15); "
   ]
  },
  {
   "cell_type": "code",
   "execution_count": 20,
   "id": "28def342",
   "metadata": {},
   "outputs": [
    {
     "data": {
      "image/png": "[encoded data removed]",
      "text/plain": [
       "<Figure size 1080x360 with 1 Axes>"
      ]
     },
     "metadata": {
      "needs_background": "light"
     },
     "output_type": "display_data"
    }
   ],
   "source": [
    "data[(data['product_category'] == 'Retirement')][['year']].groupby(['year']).size().plot(kind='bar',figsize=(15,5));\n",
    "plt.xlabel('year',fontsize=10);\n",
    "plt.xticks(rotation='horizontal',fontsize=10);\n",
    "plt.ylabel('number of retirement policy',fontsize=10)\n",
    "plt.title('number of retirement products bought by year',fontsize=15); "
   ]
  },
  {
   "cell_type": "code",
   "execution_count": 21,
   "id": "0f3cbef7",
   "metadata": {},
   "outputs": [
    {
     "data": {
      "image/png": "[encoded data removed]",
      "text/plain": [
       "<Figure size 1080x360 with 1 Axes>"
      ]
     },
     "metadata": {
      "needs_background": "light"
     },
     "output_type": "display_data"
    }
   ],
   "source": [
    "data[(data['product_category'] == 'Investment')][['year']].groupby(['year']).size().plot(kind='bar',figsize=(15,5));\n",
    "plt.xlabel('year',fontsize=10);\n",
    "plt.xticks(rotation='horizontal',fontsize=10);\n",
    "plt.ylabel('number of investment policy',fontsize=10)\n",
    "plt.title('number of investment products bought by year',fontsize=15); "
   ]
  },
  {
   "cell_type": "code",
   "execution_count": 22,
   "id": "7fdc8581",
   "metadata": {},
   "outputs": [
    {
     "data": {
      "text/plain": [
       "basic_cover_type     \n",
       "DREAD DISEASE            57\n",
       "DAILY HOSPITALIZATION    10\n",
       "MEDICAL EXPENSES         10\n",
       "dtype: int64"
      ]
     },
     "execution_count": 22,
     "metadata": {},
     "output_type": "execute_result"
    }
   ],
   "source": [
    "data[data['product_category'] == 'Health'][['basic_cover_type']].value_counts()"
   ]
  },
  {
   "cell_type": "code",
   "execution_count": 23,
   "id": "77bdb3e2",
   "metadata": {},
   "outputs": [
    {
     "data": {
      "text/plain": [
       "basic_cover_type\n",
       "UNIT LINK           5395\n",
       "dtype: int64"
      ]
     },
     "execution_count": 23,
     "metadata": {},
     "output_type": "execute_result"
    }
   ],
   "source": [
    "data[data['product_category'] == 'Investment'][['basic_cover_type']].value_counts()"
   ]
  },
  {
   "cell_type": "code",
   "execution_count": 24,
   "id": "dcb7cfe0",
   "metadata": {},
   "outputs": [
    {
     "data": {
      "text/plain": [
       "basic_cover_type            \n",
       "ACC DEATH & DISMEMBERMENT       1851\n",
       "LIVING BENEFIT                  1651\n",
       "PAYOR'S BENEFIT                 1247\n",
       "WAIVER OF PREMIUM DISABILITY     711\n",
       "TERM LIFE                        575\n",
       "WHOLE LIFE                       436\n",
       "SPECIAL ACCIDENT RIDER            48\n",
       "ACCIDENTAL DEATH                  30\n",
       "TERM RIDER                        28\n",
       "DECREASING TERM RIDER             11\n",
       "ACC TPD                           10\n",
       "dtype: int64"
      ]
     },
     "execution_count": 24,
     "metadata": {},
     "output_type": "execute_result"
    }
   ],
   "source": [
    "data[data['product_category'] == 'Protection'][['basic_cover_type']].value_counts()"
   ]
  },
  {
   "cell_type": "code",
   "execution_count": 25,
   "id": "4118bbcd",
   "metadata": {},
   "outputs": [
    {
     "data": {
      "text/plain": [
       "basic_cover_type     \n",
       "ANTICIPATED ENDOWMENT    3615\n",
       "dtype: int64"
      ]
     },
     "execution_count": 25,
     "metadata": {},
     "output_type": "execute_result"
    }
   ],
   "source": [
    "data[data['product_category'] == 'Retirement'][['basic_cover_type']].value_counts()"
   ]
  },
  {
   "cell_type": "code",
   "execution_count": 26,
   "id": "c5cc6306",
   "metadata": {},
   "outputs": [
    {
     "data": {
      "text/plain": [
       "basic_cover_type\n",
       "DEPOSIT FUND        508\n",
       "ENDOWMENT           468\n",
       "ENDOWMENT RIDER      10\n",
       "dtype: int64"
      ]
     },
     "execution_count": 26,
     "metadata": {},
     "output_type": "execute_result"
    }
   ],
   "source": [
    "data[data['product_category'] == 'Savings'][['basic_cover_type']].value_counts()"
   ]
  },
  {
   "cell_type": "code",
   "execution_count": 27,
   "id": "9d843a06",
   "metadata": {},
   "outputs": [
    {
     "data": {
      "image/png": "[encoded data removed]",
      "text/plain": [
       "<Figure size 1800x1080 with 1 Axes>"
      ]
     },
     "metadata": {
      "needs_background": "light"
     },
     "output_type": "display_data"
    }
   ],
   "source": [
    "df_week = pd.pivot_table(data[['week','product_category','ANP']], index='week', columns='product_category', values = 'ANP' , aggfunc='count')\n",
    "df_week.plot.bar(stacked=True, figsize=(25,15));\n",
    "plt.legend(bbox_to_anchor=(1,1),loc='upper right',borderaxespad=0,fontsize=20);\n",
    "plt.xlabel('week',fontsize=30)\n",
    "plt.xticks(rotation='horizontal',fontsize=15)\n",
    "plt.ylabel('number of products',fontsize=30);\n",
    "plt.yticks(fontsize=20)\n",
    "plt.title('number of products bought by week',fontsize=30); "
   ]
  },
  {
   "cell_type": "code",
   "execution_count": 28,
   "id": "d5b7b2ab",
   "metadata": {},
   "outputs": [
    {
     "data": {
      "image/png": "[encoded data removed]",
      "text/plain": [
       "<Figure size 432x288 with 1 Axes>"
      ]
     },
     "metadata": {
      "needs_background": "light"
     },
     "output_type": "display_data"
    }
   ],
   "source": [
    "df_month = pd.pivot_table(data[['month','product_category','ANP']], index='month', columns='product_category', values = 'ANP' , aggfunc='count')\n",
    "df_month.plot.bar(stacked=True);\n",
    "plt.legend(bbox_to_anchor=(1.3,1),loc='upper right',borderaxespad=0);\n",
    "plt.xlabel('month',fontsize=15)\n",
    "plt.xticks(rotation='horizontal',fontsize=10)\n",
    "plt.ylabel('number of products',fontsize=15);\n",
    "plt.yticks(fontsize=10)\n",
    "plt.title('number of products bought by month',fontsize=15);"
   ]
  },
  {
   "cell_type": "code",
   "execution_count": 29,
   "id": "f09d9f80",
   "metadata": {},
   "outputs": [
    {
     "data": {
      "image/png": "[encoded data removed]",
      "text/plain": [
       "<Figure size 432x288 with 1 Axes>"
      ]
     },
     "metadata": {
      "needs_background": "light"
     },
     "output_type": "display_data"
    }
   ],
   "source": [
    "df_year = pd.pivot_table(data[['year','product_category','ANP']], index='year', columns='product_category', values = 'ANP' , aggfunc='count')\n",
    "df_year.plot.bar(stacked=True);\n",
    "plt.legend(bbox_to_anchor=(1.3,1),loc='upper right',borderaxespad=0);\n",
    "plt.xlabel('year',fontsize=12)\n",
    "plt.xticks(rotation='horizontal',fontsize=12)\n",
    "plt.ylabel('number of products',fontsize=15);\n",
    "plt.yticks(fontsize=10)\n",
    "plt.title('number of products bought by year',fontsize=15);"
   ]
  },
  {
   "cell_type": "code",
   "execution_count": 30,
   "id": "0678bd75",
   "metadata": {},
   "outputs": [],
   "source": [
    "# # double checking \n",
    "# data[(data['product_category'] == 'Retirement')  & (data['year'] == 2016)]"
   ]
  },
  {
   "cell_type": "code",
   "execution_count": 31,
   "id": "584a0b15",
   "metadata": {},
   "outputs": [],
   "source": [
    "# # double checking \n",
    "# data[data['product_category'] == 'Health'].groupby('year').count()"
   ]
  },
  {
   "cell_type": "markdown",
   "id": "6e1db219",
   "metadata": {},
   "source": [
    "### Customer segmentation"
   ]
  },
  {
   "cell_type": "markdown",
   "id": "3fc6621d",
   "metadata": {},
   "source": [
    "Most ANP can be earned from Investment policies and Retirement policies."
   ]
  },
  {
   "cell_type": "markdown",
   "id": "401bd5fa",
   "metadata": {},
   "source": [
    "A new customer wants to buy life insurance. He comes into the firm and fills in basic demographic information about himself, such as age, gender and employment status, retirement plans, homeownership status, vehicle ownership and behavioural data (questions about the lifestyle of the individual). \n",
    "\n",
    "KMeans algorithm addresses the problem linked to how to classify the new customer in terms of what segment does he belong to. Once he can be classified then the KMeans algorithm will also help estimate how much the yearly/monthly premiums should be. "
   ]
  },
  {
   "cell_type": "code",
   "execution_count": 32,
   "id": "af238725",
   "metadata": {},
   "outputs": [],
   "source": [
    "# possible owner features of interest\n",
    "# 'bmi'\n",
    "# 'nationality_dummy'\n",
    "# 'region_dummy'\n",
    "# 'owner_age'\n",
    "# 'owner_gender'\n",
    "# 'class_order'\n",
    "# 'relationship_bin'\n",
    "# 'ANP'"
   ]
  },
  {
   "cell_type": "markdown",
   "id": "01b79e46",
   "metadata": {},
   "source": [
    "**owner_gender**"
   ]
  },
  {
   "cell_type": "code",
   "execution_count": 33,
   "id": "eb985620",
   "metadata": {},
   "outputs": [
    {
     "data": {
      "text/plain": [
       "array(['F', 'M'], dtype=object)"
      ]
     },
     "execution_count": 33,
     "metadata": {},
     "output_type": "execute_result"
    }
   ],
   "source": [
    "data['owner_gender'].unique()"
   ]
  },
  {
   "cell_type": "code",
   "execution_count": 34,
   "id": "631512d3",
   "metadata": {},
   "outputs": [],
   "source": [
    "# convert gender to numerical\n",
    "data['owner_gender']=data['owner_gender'].apply(lambda x: 1 if x=='M' else 0)"
   ]
  },
  {
   "cell_type": "markdown",
   "id": "85503ff0",
   "metadata": {},
   "source": [
    "**occupation_class**"
   ]
  },
  {
   "cell_type": "code",
   "execution_count": 35,
   "id": "3ea28cef",
   "metadata": {},
   "outputs": [
    {
     "data": {
      "text/plain": [
       "array(['HOSPITAL, NURSING HOME, CLINIC, ASSYLUM', 'STUDENT',\n",
       "       'LAWYER, ATTORNEY', 'LAWYER,ATTORNEY',\n",
       "       'BUSINESSMAN/ / BUSINESSWOMAN', 'BANK', 'PENSIONER',\n",
       "       'OFFICE WORKER', 'ENGINEER', 'UNEMPLOYED', 'HOUSEWIFE',\n",
       "       'AGRICULTURE', 'ACCOUNTANT', 'DENTAL', 'OPTICIAN/OPTOMETRIST',\n",
       "       'TEACHER, LECTURER, TUTOR, PROFESSOR', 'MARINE INDUSTRY',\n",
       "       'JUVENILE', 'PRINTING & PUBLISHING',\n",
       "       'HOSPITAL,NURSING HOME,CLINIC,ASSYLUM', 'SEAMAN / SEAFARER',\n",
       "       'OVERSEAS CONTRACT WORKER (OCW)', 'COMPUTER INDUSTRY',\n",
       "       'SALESPERSON', 'VETERINARY PRACTICE', 'DECORATOR, INTERIOR',\n",
       "       'FASHION DESIGNER', 'RELIGIOUS GROUP',\n",
       "       'BUSINESS MACHINES SALES & SERVICES', 'POLICE', 'SECURITY GUARD',\n",
       "       'CASHIER', 'COLLECTOR', 'MERCHANT - RETAIL', 'TRAVEL INDUSTRY',\n",
       "       'RICE, CORN, FEED & FLOUR MILLS (SEE GRAIN)', 'DRIVER',\n",
       "       'ARCHITECT', 'AIR TRANSPORTATION', 'CONTRACTOR',\n",
       "       'AUTOMOBILE INDUSTRY', 'POLITICIANS',\n",
       "       'OIL AND NATURAL GAS INDUSTRY', 'FERRY', 'MUSICIAN',\n",
       "       'FISHING INDUSTRY', 'LIQUOR INDUSTRY',\n",
       "       'LAUNDRY WORKERS (SEE DRY CLEANING)', 'LABORATORY',\n",
       "       'BAKERIES (FACTORIES & SHOPS)', 'HOTEL, RESTAURANT',\n",
       "       'ELECTRICAL INDUSTRY', 'DELIVERY', 'DOMESTIC HELPER/SERVANT',\n",
       "       'RADIO & TELEVISION INDUSTRY', 'BARBER SHOP/BEAUTY PARLOR',\n",
       "       'SUPERMARKET', 'WAREHOUSE', 'MACHINE SHOP', 'PACKER',\n",
       "       'GAS DISTRIBUTION (COOKING)', 'BUILDING & CONSTRUCTION INDUSTRY',\n",
       "       'MARKET VENDOR', 'ELECTRONICS INDUSTRY', 'CASINO',\n",
       "       'ENTERTAINMENT INDUSTRY', 'COURT', 'ARTIST', 'MECHANIC',\n",
       "       'JUNK SHOP', 'SOCIAL WORKER', 'CARPENTER', 'CHEMIST', 'LIBRARIAN',\n",
       "       'CLINIC (REFER TO HOSPITAL)', 'MILITARY',\n",
       "       'PAINTER, LAQUER, VARNISHER', 'MIDWIFE', 'WELDER & CUTTER',\n",
       "       'FIRE DEPARTMENT', 'HOTEL,RESTAURANT', 'MINING INDUSTRY',\n",
       "       'MERCHANT-RETAIL', 'MEDICAL SHOP', 'WATERWORKS', 'PHOTO STUDIO',\n",
       "       'JEWELRY', 'NEWSPAPER', 'TOBACCO, CIGAR & CIGARETTE MANUFACTURE',\n",
       "       'MESSENGER', 'PAPER & PULP INDUSTRY',\n",
       "       'CLOTHING MANUFACTURING INDUSTRY', 'HEALTH & SANITARY INSPECTOR',\n",
       "       'PLASTIC', 'TELEPHONE & TELEGRAM', 'GEOLOGIST', 'AMUSEMENT',\n",
       "       'SHIP & BOAT BUILDING (DRY DOCK)', 'SUGAR PLANTATION WORKER'],\n",
       "      dtype=object)"
      ]
     },
     "execution_count": 35,
     "metadata": {},
     "output_type": "execute_result"
    }
   ],
   "source": [
    "data['occupation_class'].unique()"
   ]
  },
  {
   "cell_type": "code",
   "execution_count": 36,
   "id": "e897b4b9",
   "metadata": {},
   "outputs": [
    {
     "data": {
      "text/plain": [
       "2     8653\n",
       "1     2760\n",
       "3     1413\n",
       "4     1032\n",
       "10     969\n",
       "6      871\n",
       "5      407\n",
       "7      274\n",
       "9      118\n",
       "0      112\n",
       "8       62\n",
       "Name: class_order, dtype: int64"
      ]
     },
     "execution_count": 36,
     "metadata": {},
     "output_type": "execute_result"
    }
   ],
   "source": [
    "# too broad 'occupation_class', 'owner_occupation_class' dropped, will use 'class_order' instead\n",
    "data['class_order'].value_counts()"
   ]
  },
  {
   "cell_type": "code",
   "execution_count": 37,
   "id": "28df5238",
   "metadata": {},
   "outputs": [
    {
     "data": {
      "text/plain": [
       "array(['SELF', 'DAUGHTER', 'MOTHER', 'SISTER', 'FATHER', 'GRANDMOTHER',\n",
       "       'BROTHER', 'SON', 'AUNT', 'GRANDFATHER', 'HUSBAND', 'GODMOTHER',\n",
       "       'SPOUSE', 'WIFE', 'EMPLOYER', 'GRANDSON', 'NEPHEW', 'STEPFATHER',\n",
       "       'MOTHER-IN-LAW', 'NIECE', 'PARENT', 'ADOPTED CHILD',\n",
       "       'GRANDDAUGHTER', 'UNCLE', 'CHILD', 'STEPMOTHER', 'COUSIN',\n",
       "       'GUARDIAN', 'OTHERS', 'GRAND-AUNT', 'MISSING'], dtype=object)"
      ]
     },
     "execution_count": 37,
     "metadata": {},
     "output_type": "execute_result"
    }
   ],
   "source": [
    "data['relationship'].unique()"
   ]
  },
  {
   "cell_type": "code",
   "execution_count": 38,
   "id": "068a1464",
   "metadata": {},
   "outputs": [
    {
     "data": {
      "text/plain": [
       "SELF             10134\n",
       "PARENTS           5356\n",
       "GRANDPARENTS       436\n",
       "CHILDREN           223\n",
       "RELATIVE           201\n",
       "SPOUSE             156\n",
       "EMPLOYER            75\n",
       "SIBLINGS            68\n",
       "GRANDCHILDREN       19\n",
       "OTHERS               2\n",
       "MISSING              1\n",
       "Name: relationship_bin, dtype: int64"
      ]
     },
     "execution_count": 38,
     "metadata": {},
     "output_type": "execute_result"
    }
   ],
   "source": [
    "data['relationship_bin'].value_counts()"
   ]
  },
  {
   "cell_type": "code",
   "execution_count": 39,
   "id": "2eacba8e",
   "metadata": {},
   "outputs": [
    {
     "data": {
      "text/plain": [
       "0.6078819506928199"
      ]
     },
     "execution_count": 39,
     "metadata": {},
     "output_type": "execute_result"
    }
   ],
   "source": [
    "10134/data.shape[0]"
   ]
  },
  {
   "cell_type": "markdown",
   "id": "4ea213ab",
   "metadata": {},
   "source": [
    "no 'relationship' feature"
   ]
  },
  {
   "cell_type": "code",
   "execution_count": 40,
   "id": "e28d7357",
   "metadata": {},
   "outputs": [
    {
     "data": {
      "text/plain": [
       "NATIONALITY_ID_1     16375\n",
       "NATIONALITY_ID_4       112\n",
       "NATIONALITY_ID_6        52\n",
       "NATIONALITY_ID_3        33\n",
       "NATIONALITY_ID_7        14\n",
       "NATIONALITY_ID_9        10\n",
       "NATIONALITY_ID_5         9\n",
       "NATIONALITY_ID_21        8\n",
       "NATIONALITY_ID_13        6\n",
       "NATIONALITY_ID_17        5\n",
       "NATIONALITY_ID_16        5\n",
       "NATIONALITY_ID_15        5\n",
       "NATIONALITY_ID_11        4\n",
       "NATIONALITY_ID_22        4\n",
       "NATIONALITY_ID_20        4\n",
       "NATIONALITY_ID_34        3\n",
       "NATIONALITY_ID_24        3\n",
       "NATIONALITY_ID_31        3\n",
       "NATIONALITY_ID_18        2\n",
       "NATIONALITY_ID_35        2\n",
       "NATIONALITY_ID_28        2\n",
       "NATIONALITY_ID_26        1\n",
       "NATIONALITY_ID_29        1\n",
       "NATIONALITY_ID_12        1\n",
       "NATIONALITY_ID_25        1\n",
       "NATIONALITY_ID_10        1\n",
       "NATIONALITY_ID_30        1\n",
       "NATIONALITY_ID_23        1\n",
       "NATIONALITY_ID_27        1\n",
       "NATIONALITY_ID_14        1\n",
       "NATIONALITY_ID_19        1\n",
       "Name: nationality_dummy, dtype: int64"
      ]
     },
     "execution_count": 40,
     "metadata": {},
     "output_type": "execute_result"
    }
   ],
   "source": [
    "data['nationality_dummy'].value_counts()"
   ]
  },
  {
   "cell_type": "markdown",
   "id": "58c59282",
   "metadata": {},
   "source": [
    "chances are ID_1 is the Phillipines or capital city. "
   ]
  },
  {
   "cell_type": "code",
   "execution_count": 41,
   "id": "e96d5c31",
   "metadata": {},
   "outputs": [
    {
     "data": {
      "text/plain": [
       "0.982244616399736"
      ]
     },
     "execution_count": 41,
     "metadata": {},
     "output_type": "execute_result"
    }
   ],
   "source": [
    "16375/data.shape[0]"
   ]
  },
  {
   "cell_type": "markdown",
   "id": "67fe6e06",
   "metadata": {},
   "source": [
    "ID_1 dominates nationality, so not useful. "
   ]
  },
  {
   "cell_type": "code",
   "execution_count": 42,
   "id": "7d72664d",
   "metadata": {},
   "outputs": [
    {
     "data": {
      "text/plain": [
       "REGION_10    2963\n",
       "REGION_14    2423\n",
       "REGION_3     2043\n",
       "REGION_2     1667\n",
       "REGION_1     1600\n",
       "REGION_11    1550\n",
       "REGION_12    1445\n",
       "REGION_8     1279\n",
       "REGION_13    1077\n",
       "REGION_15     534\n",
       "REGION_4       29\n",
       "REGION_18      24\n",
       "REGION_23      21\n",
       "REGION_22       6\n",
       "REGION_5        3\n",
       "REGION_16       3\n",
       "REGION_6        2\n",
       "REGION_20       1\n",
       "REGION_19       1\n",
       "Name: region_dummy, dtype: int64"
      ]
     },
     "execution_count": 42,
     "metadata": {},
     "output_type": "execute_result"
    }
   ],
   "source": [
    "data['region_dummy'].value_counts()"
   ]
  },
  {
   "cell_type": "markdown",
   "id": "c533d8aa",
   "metadata": {},
   "source": [
    "region may be more helpful, given even spread of customers from some regions."
   ]
  },
  {
   "cell_type": "markdown",
   "id": "62ae3e0b",
   "metadata": {},
   "source": [
    "KMeans works only with continuous variables. Other types (like gender, class_order, region) is already pushing it. but 3+ features per customer would provide more insights."
   ]
  },
  {
   "cell_type": "code",
   "execution_count": 43,
   "id": "b7afe413",
   "metadata": {},
   "outputs": [],
   "source": [
    "# customer segmentation features\n",
    "features = ['region_dummy','owner_age','owner_gender','class_order','ANP']\n",
    "cust_data = data[features]"
   ]
  },
  {
   "cell_type": "markdown",
   "id": "0ff3c182",
   "metadata": {},
   "source": [
    "'ANP' will perhaps give idea of spending score of a person. "
   ]
  },
  {
   "cell_type": "code",
   "execution_count": 44,
   "id": "a9c993e9",
   "metadata": {},
   "outputs": [
    {
     "data": {
      "text/html": [
       "<div>\n",
       "<style scoped>\n",
       "    .dataframe tbody tr th:only-of-type {\n",
       "        vertical-align: middle;\n",
       "    }\n",
       "\n",
       "    .dataframe tbody tr th {\n",
       "        vertical-align: top;\n",
       "    }\n",
       "\n",
       "    .dataframe thead th {\n",
       "        text-align: right;\n",
       "    }\n",
       "</style>\n",
       "<table border=\"1\" class=\"dataframe\">\n",
       "  <thead>\n",
       "    <tr style=\"text-align: right;\">\n",
       "      <th></th>\n",
       "      <th>region_dummy</th>\n",
       "      <th>owner_age</th>\n",
       "      <th>owner_gender</th>\n",
       "      <th>class_order</th>\n",
       "      <th>ANP</th>\n",
       "    </tr>\n",
       "  </thead>\n",
       "  <tbody>\n",
       "    <tr>\n",
       "      <th>0</th>\n",
       "      <td>REGION_2</td>\n",
       "      <td>53.0</td>\n",
       "      <td>0</td>\n",
       "      <td>4</td>\n",
       "      <td>161515.0</td>\n",
       "    </tr>\n",
       "    <tr>\n",
       "      <th>1</th>\n",
       "      <td>REGION_10</td>\n",
       "      <td>50.0</td>\n",
       "      <td>0</td>\n",
       "      <td>10</td>\n",
       "      <td>26745.0</td>\n",
       "    </tr>\n",
       "    <tr>\n",
       "      <th>2</th>\n",
       "      <td>REGION_10</td>\n",
       "      <td>50.0</td>\n",
       "      <td>0</td>\n",
       "      <td>10</td>\n",
       "      <td>443.0</td>\n",
       "    </tr>\n",
       "    <tr>\n",
       "      <th>3</th>\n",
       "      <td>REGION_10</td>\n",
       "      <td>50.0</td>\n",
       "      <td>0</td>\n",
       "      <td>10</td>\n",
       "      <td>0.0</td>\n",
       "    </tr>\n",
       "    <tr>\n",
       "      <th>4</th>\n",
       "      <td>REGION_10</td>\n",
       "      <td>61.0</td>\n",
       "      <td>0</td>\n",
       "      <td>3</td>\n",
       "      <td>44170.0</td>\n",
       "    </tr>\n",
       "    <tr>\n",
       "      <th>5</th>\n",
       "      <td>REGION_10</td>\n",
       "      <td>60.0</td>\n",
       "      <td>0</td>\n",
       "      <td>3</td>\n",
       "      <td>30000.0</td>\n",
       "    </tr>\n",
       "    <tr>\n",
       "      <th>6</th>\n",
       "      <td>REGION_14</td>\n",
       "      <td>34.0</td>\n",
       "      <td>0</td>\n",
       "      <td>2</td>\n",
       "      <td>100000.0</td>\n",
       "    </tr>\n",
       "    <tr>\n",
       "      <th>7</th>\n",
       "      <td>REGION_12</td>\n",
       "      <td>42.0</td>\n",
       "      <td>0</td>\n",
       "      <td>2</td>\n",
       "      <td>25000.0</td>\n",
       "    </tr>\n",
       "    <tr>\n",
       "      <th>8</th>\n",
       "      <td>REGION_3</td>\n",
       "      <td>56.0</td>\n",
       "      <td>1</td>\n",
       "      <td>2</td>\n",
       "      <td>25000.0</td>\n",
       "    </tr>\n",
       "    <tr>\n",
       "      <th>9</th>\n",
       "      <td>REGION_15</td>\n",
       "      <td>28.0</td>\n",
       "      <td>0</td>\n",
       "      <td>2</td>\n",
       "      <td>50000.0</td>\n",
       "    </tr>\n",
       "  </tbody>\n",
       "</table>\n",
       "</div>"
      ],
      "text/plain": [
       "  region_dummy  owner_age  owner_gender  class_order       ANP\n",
       "0     REGION_2       53.0             0            4  161515.0\n",
       "1    REGION_10       50.0             0           10   26745.0\n",
       "2    REGION_10       50.0             0           10     443.0\n",
       "3    REGION_10       50.0             0           10       0.0\n",
       "4    REGION_10       61.0             0            3   44170.0\n",
       "5    REGION_10       60.0             0            3   30000.0\n",
       "6    REGION_14       34.0             0            2  100000.0\n",
       "7    REGION_12       42.0             0            2   25000.0\n",
       "8     REGION_3       56.0             1            2   25000.0\n",
       "9    REGION_15       28.0             0            2   50000.0"
      ]
     },
     "execution_count": 44,
     "metadata": {},
     "output_type": "execute_result"
    }
   ],
   "source": [
    "cust_data.head(10)"
   ]
  },
  {
   "cell_type": "code",
   "execution_count": 45,
   "id": "f4c57e96",
   "metadata": {},
   "outputs": [
    {
     "name": "stderr",
     "output_type": "stream",
     "text": [
      "<ipython-input-45-a6f272dc4a3b>:1: SettingWithCopyWarning: \n",
      "A value is trying to be set on a copy of a slice from a DataFrame.\n",
      "Try using .loc[row_indexer,col_indexer] = value instead\n",
      "\n",
      "See the caveats in the documentation: https://pandas.pydata.org/pandas-docs/stable/user_guide/indexing.html#returning-a-view-versus-a-copy\n",
      "  cust_data['region'] = data['region_dummy'].replace({'REGION_':''},regex=True).astype(int)\n"
     ]
    }
   ],
   "source": [
    "cust_data['region'] = data['region_dummy'].replace({'REGION_':''},regex=True).astype(int)"
   ]
  },
  {
   "cell_type": "code",
   "execution_count": 46,
   "id": "c355fdb9",
   "metadata": {},
   "outputs": [
    {
     "name": "stderr",
     "output_type": "stream",
     "text": [
      "C:\\Users\\USER\\anaconda3\\envs\\dsi24\\lib\\site-packages\\pandas\\core\\frame.py:4308: SettingWithCopyWarning: \n",
      "A value is trying to be set on a copy of a slice from a DataFrame\n",
      "\n",
      "See the caveats in the documentation: https://pandas.pydata.org/pandas-docs/stable/user_guide/indexing.html#returning-a-view-versus-a-copy\n",
      "  return super().drop(\n"
     ]
    }
   ],
   "source": [
    "cust_data.drop(columns=['region_dummy'],inplace=True)"
   ]
  },
  {
   "cell_type": "code",
   "execution_count": 47,
   "id": "a788ee6f",
   "metadata": {},
   "outputs": [
    {
     "data": {
      "text/html": [
       "<div>\n",
       "<style scoped>\n",
       "    .dataframe tbody tr th:only-of-type {\n",
       "        vertical-align: middle;\n",
       "    }\n",
       "\n",
       "    .dataframe tbody tr th {\n",
       "        vertical-align: top;\n",
       "    }\n",
       "\n",
       "    .dataframe thead th {\n",
       "        text-align: right;\n",
       "    }\n",
       "</style>\n",
       "<table border=\"1\" class=\"dataframe\">\n",
       "  <thead>\n",
       "    <tr style=\"text-align: right;\">\n",
       "      <th></th>\n",
       "      <th>owner_age</th>\n",
       "      <th>owner_gender</th>\n",
       "      <th>class_order</th>\n",
       "      <th>ANP</th>\n",
       "      <th>region</th>\n",
       "    </tr>\n",
       "  </thead>\n",
       "  <tbody>\n",
       "    <tr>\n",
       "      <th>0</th>\n",
       "      <td>53.0</td>\n",
       "      <td>0</td>\n",
       "      <td>4</td>\n",
       "      <td>161515.0</td>\n",
       "      <td>2</td>\n",
       "    </tr>\n",
       "    <tr>\n",
       "      <th>1</th>\n",
       "      <td>50.0</td>\n",
       "      <td>0</td>\n",
       "      <td>10</td>\n",
       "      <td>26745.0</td>\n",
       "      <td>10</td>\n",
       "    </tr>\n",
       "    <tr>\n",
       "      <th>2</th>\n",
       "      <td>50.0</td>\n",
       "      <td>0</td>\n",
       "      <td>10</td>\n",
       "      <td>443.0</td>\n",
       "      <td>10</td>\n",
       "    </tr>\n",
       "    <tr>\n",
       "      <th>3</th>\n",
       "      <td>50.0</td>\n",
       "      <td>0</td>\n",
       "      <td>10</td>\n",
       "      <td>0.0</td>\n",
       "      <td>10</td>\n",
       "    </tr>\n",
       "    <tr>\n",
       "      <th>4</th>\n",
       "      <td>61.0</td>\n",
       "      <td>0</td>\n",
       "      <td>3</td>\n",
       "      <td>44170.0</td>\n",
       "      <td>10</td>\n",
       "    </tr>\n",
       "  </tbody>\n",
       "</table>\n",
       "</div>"
      ],
      "text/plain": [
       "   owner_age  owner_gender  class_order       ANP  region\n",
       "0       53.0             0            4  161515.0       2\n",
       "1       50.0             0           10   26745.0      10\n",
       "2       50.0             0           10     443.0      10\n",
       "3       50.0             0           10       0.0      10\n",
       "4       61.0             0            3   44170.0      10"
      ]
     },
     "execution_count": 47,
     "metadata": {},
     "output_type": "execute_result"
    }
   ],
   "source": [
    "cust_data.head()"
   ]
  },
  {
   "cell_type": "code",
   "execution_count": 48,
   "id": "001d4ae0",
   "metadata": {},
   "outputs": [
    {
     "name": "stdout",
     "output_type": "stream",
     "text": [
      "<class 'pandas.core.frame.DataFrame'>\n",
      "RangeIndex: 16671 entries, 0 to 16670\n",
      "Data columns (total 5 columns):\n",
      " #   Column        Non-Null Count  Dtype  \n",
      "---  ------        --------------  -----  \n",
      " 0   owner_age     16671 non-null  float64\n",
      " 1   owner_gender  16671 non-null  int64  \n",
      " 2   class_order   16671 non-null  int64  \n",
      " 3   ANP           16671 non-null  float64\n",
      " 4   region        16671 non-null  int32  \n",
      "dtypes: float64(2), int32(1), int64(2)\n",
      "memory usage: 586.2 KB\n"
     ]
    }
   ],
   "source": [
    "cust_data.info()"
   ]
  },
  {
   "cell_type": "code",
   "execution_count": 49,
   "id": "3b0b797f",
   "metadata": {},
   "outputs": [
    {
     "data": {
      "text/html": [
       "<div>\n",
       "<style scoped>\n",
       "    .dataframe tbody tr th:only-of-type {\n",
       "        vertical-align: middle;\n",
       "    }\n",
       "\n",
       "    .dataframe tbody tr th {\n",
       "        vertical-align: top;\n",
       "    }\n",
       "\n",
       "    .dataframe thead th {\n",
       "        text-align: right;\n",
       "    }\n",
       "</style>\n",
       "<table border=\"1\" class=\"dataframe\">\n",
       "  <thead>\n",
       "    <tr style=\"text-align: right;\">\n",
       "      <th></th>\n",
       "      <th>index</th>\n",
       "      <th>owner_age</th>\n",
       "      <th>ANP</th>\n",
       "    </tr>\n",
       "  </thead>\n",
       "  <tbody>\n",
       "    <tr>\n",
       "      <th>0</th>\n",
       "      <td>0</td>\n",
       "      <td>0.757675</td>\n",
       "      <td>1.050262</td>\n",
       "    </tr>\n",
       "    <tr>\n",
       "      <th>1</th>\n",
       "      <td>1</td>\n",
       "      <td>0.517396</td>\n",
       "      <td>-0.180560</td>\n",
       "    </tr>\n",
       "    <tr>\n",
       "      <th>2</th>\n",
       "      <td>2</td>\n",
       "      <td>0.517396</td>\n",
       "      <td>-0.420770</td>\n",
       "    </tr>\n",
       "    <tr>\n",
       "      <th>3</th>\n",
       "      <td>3</td>\n",
       "      <td>0.517396</td>\n",
       "      <td>-0.424815</td>\n",
       "    </tr>\n",
       "    <tr>\n",
       "      <th>4</th>\n",
       "      <td>4</td>\n",
       "      <td>1.398417</td>\n",
       "      <td>-0.021422</td>\n",
       "    </tr>\n",
       "    <tr>\n",
       "      <th>...</th>\n",
       "      <td>...</td>\n",
       "      <td>...</td>\n",
       "      <td>...</td>\n",
       "    </tr>\n",
       "    <tr>\n",
       "      <th>16666</th>\n",
       "      <td>16666</td>\n",
       "      <td>-0.363624</td>\n",
       "      <td>1.958694</td>\n",
       "    </tr>\n",
       "    <tr>\n",
       "      <th>16667</th>\n",
       "      <td>16667</td>\n",
       "      <td>-0.363624</td>\n",
       "      <td>-0.396552</td>\n",
       "    </tr>\n",
       "    <tr>\n",
       "      <th>16668</th>\n",
       "      <td>16668</td>\n",
       "      <td>-0.523810</td>\n",
       "      <td>0.302462</td>\n",
       "    </tr>\n",
       "    <tr>\n",
       "      <th>16669</th>\n",
       "      <td>16669</td>\n",
       "      <td>-0.523810</td>\n",
       "      <td>-0.411609</td>\n",
       "    </tr>\n",
       "    <tr>\n",
       "      <th>16670</th>\n",
       "      <td>16670</td>\n",
       "      <td>-0.523810</td>\n",
       "      <td>-0.424815</td>\n",
       "    </tr>\n",
       "  </tbody>\n",
       "</table>\n",
       "<p>16671 rows × 3 columns</p>\n",
       "</div>"
      ],
      "text/plain": [
       "       index  owner_age       ANP\n",
       "0          0   0.757675  1.050262\n",
       "1          1   0.517396 -0.180560\n",
       "2          2   0.517396 -0.420770\n",
       "3          3   0.517396 -0.424815\n",
       "4          4   1.398417 -0.021422\n",
       "...      ...        ...       ...\n",
       "16666  16666  -0.363624  1.958694\n",
       "16667  16667  -0.363624 -0.396552\n",
       "16668  16668  -0.523810  0.302462\n",
       "16669  16669  -0.523810 -0.411609\n",
       "16670  16670  -0.523810 -0.424815\n",
       "\n",
       "[16671 rows x 3 columns]"
      ]
     },
     "execution_count": 49,
     "metadata": {},
     "output_type": "execute_result"
    }
   ],
   "source": [
    "# standard scaler bmi, age and ANP\n",
    "col = ['owner_age','ANP']\n",
    "ss_features = cust_data[col]\n",
    "scaler = StandardScaler().fit(ss_features.values)\n",
    "ss_features = scaler.transform(ss_features.values)\n",
    "scaled_features = pd.DataFrame(ss_features, columns = col)\n",
    "scaled_features.reset_index()"
   ]
  },
  {
   "cell_type": "code",
   "execution_count": 50,
   "id": "29e31efe",
   "metadata": {},
   "outputs": [
    {
     "data": {
      "text/plain": [
       "(16671, 2)"
      ]
     },
     "execution_count": 50,
     "metadata": {},
     "output_type": "execute_result"
    }
   ],
   "source": [
    "# checking rows\n",
    "scaled_features.shape"
   ]
  },
  {
   "cell_type": "code",
   "execution_count": 51,
   "id": "31288fea",
   "metadata": {},
   "outputs": [],
   "source": [
    "temp = cust_data[['owner_gender','class_order','region']].reset_index()\n",
    "X = pd.concat([scaled_features,temp],ignore_index=False,axis=1)"
   ]
  },
  {
   "cell_type": "code",
   "execution_count": 52,
   "id": "bee38896",
   "metadata": {},
   "outputs": [
    {
     "data": {
      "text/html": [
       "<div>\n",
       "<style scoped>\n",
       "    .dataframe tbody tr th:only-of-type {\n",
       "        vertical-align: middle;\n",
       "    }\n",
       "\n",
       "    .dataframe tbody tr th {\n",
       "        vertical-align: top;\n",
       "    }\n",
       "\n",
       "    .dataframe thead th {\n",
       "        text-align: right;\n",
       "    }\n",
       "</style>\n",
       "<table border=\"1\" class=\"dataframe\">\n",
       "  <thead>\n",
       "    <tr style=\"text-align: right;\">\n",
       "      <th></th>\n",
       "      <th>owner_age</th>\n",
       "      <th>ANP</th>\n",
       "      <th>index</th>\n",
       "      <th>owner_gender</th>\n",
       "      <th>class_order</th>\n",
       "      <th>region</th>\n",
       "    </tr>\n",
       "  </thead>\n",
       "  <tbody>\n",
       "    <tr>\n",
       "      <th>0</th>\n",
       "      <td>0.757675</td>\n",
       "      <td>1.050262</td>\n",
       "      <td>0</td>\n",
       "      <td>0</td>\n",
       "      <td>4</td>\n",
       "      <td>2</td>\n",
       "    </tr>\n",
       "    <tr>\n",
       "      <th>1</th>\n",
       "      <td>0.517396</td>\n",
       "      <td>-0.180560</td>\n",
       "      <td>1</td>\n",
       "      <td>0</td>\n",
       "      <td>10</td>\n",
       "      <td>10</td>\n",
       "    </tr>\n",
       "    <tr>\n",
       "      <th>2</th>\n",
       "      <td>0.517396</td>\n",
       "      <td>-0.420770</td>\n",
       "      <td>2</td>\n",
       "      <td>0</td>\n",
       "      <td>10</td>\n",
       "      <td>10</td>\n",
       "    </tr>\n",
       "    <tr>\n",
       "      <th>3</th>\n",
       "      <td>0.517396</td>\n",
       "      <td>-0.424815</td>\n",
       "      <td>3</td>\n",
       "      <td>0</td>\n",
       "      <td>10</td>\n",
       "      <td>10</td>\n",
       "    </tr>\n",
       "    <tr>\n",
       "      <th>4</th>\n",
       "      <td>1.398417</td>\n",
       "      <td>-0.021422</td>\n",
       "      <td>4</td>\n",
       "      <td>0</td>\n",
       "      <td>3</td>\n",
       "      <td>10</td>\n",
       "    </tr>\n",
       "    <tr>\n",
       "      <th>5</th>\n",
       "      <td>1.318324</td>\n",
       "      <td>-0.150833</td>\n",
       "      <td>5</td>\n",
       "      <td>0</td>\n",
       "      <td>3</td>\n",
       "      <td>10</td>\n",
       "    </tr>\n",
       "    <tr>\n",
       "      <th>6</th>\n",
       "      <td>-0.764088</td>\n",
       "      <td>0.488460</td>\n",
       "      <td>6</td>\n",
       "      <td>0</td>\n",
       "      <td>2</td>\n",
       "      <td>14</td>\n",
       "    </tr>\n",
       "    <tr>\n",
       "      <th>7</th>\n",
       "      <td>-0.123346</td>\n",
       "      <td>-0.196497</td>\n",
       "      <td>7</td>\n",
       "      <td>0</td>\n",
       "      <td>2</td>\n",
       "      <td>12</td>\n",
       "    </tr>\n",
       "    <tr>\n",
       "      <th>8</th>\n",
       "      <td>0.997953</td>\n",
       "      <td>-0.196497</td>\n",
       "      <td>8</td>\n",
       "      <td>1</td>\n",
       "      <td>2</td>\n",
       "      <td>3</td>\n",
       "    </tr>\n",
       "    <tr>\n",
       "      <th>9</th>\n",
       "      <td>-1.244645</td>\n",
       "      <td>0.031822</td>\n",
       "      <td>9</td>\n",
       "      <td>0</td>\n",
       "      <td>2</td>\n",
       "      <td>15</td>\n",
       "    </tr>\n",
       "  </tbody>\n",
       "</table>\n",
       "</div>"
      ],
      "text/plain": [
       "   owner_age       ANP  index  owner_gender  class_order  region\n",
       "0   0.757675  1.050262      0             0            4       2\n",
       "1   0.517396 -0.180560      1             0           10      10\n",
       "2   0.517396 -0.420770      2             0           10      10\n",
       "3   0.517396 -0.424815      3             0           10      10\n",
       "4   1.398417 -0.021422      4             0            3      10\n",
       "5   1.318324 -0.150833      5             0            3      10\n",
       "6  -0.764088  0.488460      6             0            2      14\n",
       "7  -0.123346 -0.196497      7             0            2      12\n",
       "8   0.997953 -0.196497      8             1            2       3\n",
       "9  -1.244645  0.031822      9             0            2      15"
      ]
     },
     "execution_count": 52,
     "metadata": {},
     "output_type": "execute_result"
    }
   ],
   "source": [
    "X.head(10)"
   ]
  },
  {
   "cell_type": "code",
   "execution_count": 53,
   "id": "13589664",
   "metadata": {},
   "outputs": [
    {
     "name": "stdout",
     "output_type": "stream",
     "text": [
      "<class 'pandas.core.frame.DataFrame'>\n",
      "RangeIndex: 16671 entries, 0 to 16670\n",
      "Data columns (total 6 columns):\n",
      " #   Column        Non-Null Count  Dtype  \n",
      "---  ------        --------------  -----  \n",
      " 0   owner_age     16671 non-null  float64\n",
      " 1   ANP           16671 non-null  float64\n",
      " 2   index         16671 non-null  int64  \n",
      " 3   owner_gender  16671 non-null  int64  \n",
      " 4   class_order   16671 non-null  int64  \n",
      " 5   region        16671 non-null  int32  \n",
      "dtypes: float64(2), int32(1), int64(3)\n",
      "memory usage: 716.5 KB\n"
     ]
    }
   ],
   "source": [
    "X.info()"
   ]
  },
  {
   "cell_type": "code",
   "execution_count": 54,
   "id": "4bfd9ae4",
   "metadata": {},
   "outputs": [],
   "source": [
    "X = X.drop(columns=['index'])"
   ]
  },
  {
   "cell_type": "code",
   "execution_count": 55,
   "id": "8ebcf137",
   "metadata": {},
   "outputs": [],
   "source": [
    "# X.info()"
   ]
  },
  {
   "cell_type": "code",
   "execution_count": 56,
   "id": "a01a3d82",
   "metadata": {},
   "outputs": [
    {
     "data": {
      "image/png": "[encoded data removed]",
      "text/plain": [
       "<Figure size 432x288 with 1 Axes>"
      ]
     },
     "metadata": {
      "needs_background": "light"
     },
     "output_type": "display_data"
    }
   ],
   "source": [
    "# KMeans\n",
    "# determine k\n",
    "distortions = []\n",
    "for k in range(1,10):\n",
    "    kmeanModel = KMeans(n_clusters=k, init='k-means++').fit(X)\n",
    "    kmeanModel.fit(X)\n",
    "    distortions.append(sum(np.min(distance.cdist(X,kmeanModel.cluster_centers_, 'euclidean'), axis=1)) / X.shape[0])\n",
    "    \n",
    "plt.plot(range(1,10), distortions, 'bx-')\n",
    "plt.xlabel('k')\n",
    "plt.ylabel('Distortion')\n",
    "plt.title('Finding optimal k');"
   ]
  },
  {
   "cell_type": "code",
   "execution_count": 57,
   "id": "05889579",
   "metadata": {},
   "outputs": [
    {
     "data": {
      "image/png": "[encoded data removed]",
      "text/plain": [
       "<Figure size 432x288 with 1 Axes>"
      ]
     },
     "metadata": {
      "needs_background": "light"
     },
     "output_type": "display_data"
    }
   ],
   "source": [
    "SSE = []\n",
    "for k in range(1,10):\n",
    "    kmeans = KMeans(n_clusters = k, init='k-means++')\n",
    "    kmeans.fit(X)\n",
    "    SSE.append(kmeans.inertia_)\n",
    "\n",
    "frame = pd.DataFrame({'Cluster':range(1,10), 'SSE':SSE})\n",
    "plt.plot(frame['Cluster'], frame['SSE'], marker='o')\n",
    "plt.xlabel('k')\n",
    "plt.ylabel('SSE')\n",
    "plt.title('Finding optimal k');"
   ]
  },
  {
   "cell_type": "markdown",
   "id": "40c94058",
   "metadata": {},
   "source": [
    "optimal number of k=5"
   ]
  },
  {
   "cell_type": "code",
   "execution_count": 58,
   "id": "d36d4c09",
   "metadata": {},
   "outputs": [
    {
     "name": "stdout",
     "output_type": "stream",
     "text": [
      "0.44557147947270076\n"
     ]
    }
   ],
   "source": [
    "# Build a model with 5 clusters\n",
    "kmeans = KMeans(n_clusters = 5, init='k-means++')\n",
    "clusters = kmeans.fit_predict(X)\n",
    "\n",
    "# print silhouette score of modek\n",
    "print(metrics.silhouette_score(X, kmeans.labels_, metric='euclidean'))"
   ]
  },
  {
   "cell_type": "markdown",
   "id": "a32c9d83",
   "metadata": {},
   "source": [
    "Silhouette score is 0.46, not bad at all."
   ]
  },
  {
   "cell_type": "code",
   "execution_count": 59,
   "id": "84efa5c3",
   "metadata": {},
   "outputs": [
    {
     "name": "stderr",
     "output_type": "stream",
     "text": [
      "<ipython-input-59-083a732311b7>:2: SettingWithCopyWarning: \n",
      "A value is trying to be set on a copy of a slice from a DataFrame.\n",
      "Try using .loc[row_indexer,col_indexer] = value instead\n",
      "\n",
      "See the caveats in the documentation: https://pandas.pydata.org/pandas-docs/stable/user_guide/indexing.html#returning-a-view-versus-a-copy\n",
      "  cust_data['label'] = clusters\n"
     ]
    }
   ],
   "source": [
    "X['label'] = clusters\n",
    "cust_data['label'] = clusters"
   ]
  },
  {
   "cell_type": "code",
   "execution_count": 60,
   "id": "a14f57cd",
   "metadata": {},
   "outputs": [
    {
     "data": {
      "text/plain": [
       "2    5139\n",
       "4    4691\n",
       "0    4474\n",
       "1    1499\n",
       "3     868\n",
       "Name: label, dtype: int64"
      ]
     },
     "execution_count": 60,
     "metadata": {},
     "output_type": "execute_result"
    }
   ],
   "source": [
    "cust_data['label'].value_counts()"
   ]
  },
  {
   "cell_type": "code",
   "execution_count": 61,
   "id": "dcdad046",
   "metadata": {},
   "outputs": [
    {
     "data": {
      "text/html": [
       "<div>\n",
       "<style scoped>\n",
       "    .dataframe tbody tr th:only-of-type {\n",
       "        vertical-align: middle;\n",
       "    }\n",
       "\n",
       "    .dataframe tbody tr th {\n",
       "        vertical-align: top;\n",
       "    }\n",
       "\n",
       "    .dataframe thead th {\n",
       "        text-align: right;\n",
       "    }\n",
       "</style>\n",
       "<table border=\"1\" class=\"dataframe\">\n",
       "  <thead>\n",
       "    <tr style=\"text-align: right;\">\n",
       "      <th></th>\n",
       "      <th>owner_age</th>\n",
       "      <th>owner_gender</th>\n",
       "      <th>class_order</th>\n",
       "      <th>ANP</th>\n",
       "      <th>region</th>\n",
       "      <th>label</th>\n",
       "    </tr>\n",
       "  </thead>\n",
       "  <tbody>\n",
       "    <tr>\n",
       "      <th>0</th>\n",
       "      <td>53.0</td>\n",
       "      <td>0</td>\n",
       "      <td>4</td>\n",
       "      <td>161515.0</td>\n",
       "      <td>2</td>\n",
       "      <td>0</td>\n",
       "    </tr>\n",
       "    <tr>\n",
       "      <th>1</th>\n",
       "      <td>50.0</td>\n",
       "      <td>0</td>\n",
       "      <td>10</td>\n",
       "      <td>26745.0</td>\n",
       "      <td>10</td>\n",
       "      <td>1</td>\n",
       "    </tr>\n",
       "    <tr>\n",
       "      <th>2</th>\n",
       "      <td>50.0</td>\n",
       "      <td>0</td>\n",
       "      <td>10</td>\n",
       "      <td>443.0</td>\n",
       "      <td>10</td>\n",
       "      <td>1</td>\n",
       "    </tr>\n",
       "    <tr>\n",
       "      <th>3</th>\n",
       "      <td>50.0</td>\n",
       "      <td>0</td>\n",
       "      <td>10</td>\n",
       "      <td>0.0</td>\n",
       "      <td>10</td>\n",
       "      <td>1</td>\n",
       "    </tr>\n",
       "    <tr>\n",
       "      <th>4</th>\n",
       "      <td>61.0</td>\n",
       "      <td>0</td>\n",
       "      <td>3</td>\n",
       "      <td>44170.0</td>\n",
       "      <td>10</td>\n",
       "      <td>2</td>\n",
       "    </tr>\n",
       "    <tr>\n",
       "      <th>5</th>\n",
       "      <td>60.0</td>\n",
       "      <td>0</td>\n",
       "      <td>3</td>\n",
       "      <td>30000.0</td>\n",
       "      <td>10</td>\n",
       "      <td>2</td>\n",
       "    </tr>\n",
       "    <tr>\n",
       "      <th>6</th>\n",
       "      <td>34.0</td>\n",
       "      <td>0</td>\n",
       "      <td>2</td>\n",
       "      <td>100000.0</td>\n",
       "      <td>14</td>\n",
       "      <td>4</td>\n",
       "    </tr>\n",
       "    <tr>\n",
       "      <th>7</th>\n",
       "      <td>42.0</td>\n",
       "      <td>0</td>\n",
       "      <td>2</td>\n",
       "      <td>25000.0</td>\n",
       "      <td>12</td>\n",
       "      <td>4</td>\n",
       "    </tr>\n",
       "    <tr>\n",
       "      <th>8</th>\n",
       "      <td>56.0</td>\n",
       "      <td>1</td>\n",
       "      <td>2</td>\n",
       "      <td>25000.0</td>\n",
       "      <td>3</td>\n",
       "      <td>0</td>\n",
       "    </tr>\n",
       "    <tr>\n",
       "      <th>9</th>\n",
       "      <td>28.0</td>\n",
       "      <td>0</td>\n",
       "      <td>2</td>\n",
       "      <td>50000.0</td>\n",
       "      <td>15</td>\n",
       "      <td>4</td>\n",
       "    </tr>\n",
       "  </tbody>\n",
       "</table>\n",
       "</div>"
      ],
      "text/plain": [
       "   owner_age  owner_gender  class_order       ANP  region  label\n",
       "0       53.0             0            4  161515.0       2      0\n",
       "1       50.0             0           10   26745.0      10      1\n",
       "2       50.0             0           10     443.0      10      1\n",
       "3       50.0             0           10       0.0      10      1\n",
       "4       61.0             0            3   44170.0      10      2\n",
       "5       60.0             0            3   30000.0      10      2\n",
       "6       34.0             0            2  100000.0      14      4\n",
       "7       42.0             0            2   25000.0      12      4\n",
       "8       56.0             1            2   25000.0       3      0\n",
       "9       28.0             0            2   50000.0      15      4"
      ]
     },
     "execution_count": 61,
     "metadata": {},
     "output_type": "execute_result"
    }
   ],
   "source": [
    "cust_data.head(10)"
   ]
  },
  {
   "cell_type": "code",
   "execution_count": 62,
   "id": "ca77529d",
   "metadata": {},
   "outputs": [
    {
     "data": {
      "text/html": [
       "<div>\n",
       "<style scoped>\n",
       "    .dataframe tbody tr th:only-of-type {\n",
       "        vertical-align: middle;\n",
       "    }\n",
       "\n",
       "    .dataframe tbody tr th {\n",
       "        vertical-align: top;\n",
       "    }\n",
       "\n",
       "    .dataframe thead th {\n",
       "        text-align: right;\n",
       "    }\n",
       "</style>\n",
       "<table border=\"1\" class=\"dataframe\">\n",
       "  <thead>\n",
       "    <tr style=\"text-align: right;\">\n",
       "      <th></th>\n",
       "      <th>label</th>\n",
       "      <th>owner_age</th>\n",
       "      <th>owner_gender</th>\n",
       "      <th>class_order</th>\n",
       "      <th>ANP</th>\n",
       "      <th>region</th>\n",
       "    </tr>\n",
       "  </thead>\n",
       "  <tbody>\n",
       "    <tr>\n",
       "      <th>0</th>\n",
       "      <td>0</td>\n",
       "      <td>45.0</td>\n",
       "      <td>0</td>\n",
       "      <td>2</td>\n",
       "      <td>22065.00</td>\n",
       "      <td>2</td>\n",
       "    </tr>\n",
       "    <tr>\n",
       "      <th>1</th>\n",
       "      <td>1</td>\n",
       "      <td>40.0</td>\n",
       "      <td>0</td>\n",
       "      <td>8</td>\n",
       "      <td>15821.60</td>\n",
       "      <td>12</td>\n",
       "    </tr>\n",
       "    <tr>\n",
       "      <th>2</th>\n",
       "      <td>2</td>\n",
       "      <td>44.0</td>\n",
       "      <td>0</td>\n",
       "      <td>2</td>\n",
       "      <td>22040.00</td>\n",
       "      <td>10</td>\n",
       "    </tr>\n",
       "    <tr>\n",
       "      <th>3</th>\n",
       "      <td>3</td>\n",
       "      <td>41.0</td>\n",
       "      <td>0</td>\n",
       "      <td>7</td>\n",
       "      <td>20000.00</td>\n",
       "      <td>3</td>\n",
       "    </tr>\n",
       "    <tr>\n",
       "      <th>4</th>\n",
       "      <td>4</td>\n",
       "      <td>42.0</td>\n",
       "      <td>0</td>\n",
       "      <td>2</td>\n",
       "      <td>19184.76</td>\n",
       "      <td>14</td>\n",
       "    </tr>\n",
       "  </tbody>\n",
       "</table>\n",
       "</div>"
      ],
      "text/plain": [
       "   label  owner_age  owner_gender  class_order       ANP  region\n",
       "0      0       45.0             0            2  22065.00       2\n",
       "1      1       40.0             0            8  15821.60      12\n",
       "2      2       44.0             0            2  22040.00      10\n",
       "3      3       41.0             0            7  20000.00       3\n",
       "4      4       42.0             0            2  19184.76      14"
      ]
     },
     "execution_count": 62,
     "metadata": {},
     "output_type": "execute_result"
    }
   ],
   "source": [
    "# average of clusters\n",
    "avg_df = cust_data.groupby(['label'],as_index=False).median()\n",
    "avg_df"
   ]
  },
  {
   "cell_type": "code",
   "execution_count": 63,
   "id": "bba6f4ba",
   "metadata": {},
   "outputs": [
    {
     "data": {
      "image/png": "[encoded data removed]",
      "text/plain": [
       "<Figure size 432x288 with 1 Axes>"
      ]
     },
     "metadata": {
      "needs_background": "light"
     },
     "output_type": "display_data"
    }
   ],
   "source": [
    "sns.barplot(x='label',y='owner_age',data=avg_df);\n",
    "plt.title('age for each cluster');"
   ]
  },
  {
   "cell_type": "code",
   "execution_count": 64,
   "id": "608bde41",
   "metadata": {},
   "outputs": [
    {
     "data": {
      "image/png": "[encoded data removed]",
      "text/plain": [
       "<Figure size 432x288 with 1 Axes>"
      ]
     },
     "metadata": {
      "needs_background": "light"
     },
     "output_type": "display_data"
    }
   ],
   "source": [
    "sns.barplot(x='label',y='region',data=avg_df);\n",
    "plt.title('region vs label vs ANP for each cluster');"
   ]
  },
  {
   "cell_type": "code",
   "execution_count": 65,
   "id": "5b8a3604",
   "metadata": {},
   "outputs": [
    {
     "data": {
      "text/plain": [
       "region\n",
       "14        426\n",
       "10        366\n",
       "12        243\n",
       "11        225\n",
       "13        153\n",
       "8          64\n",
       "15         15\n",
       "18          7\n",
       "dtype: int64"
      ]
     },
     "execution_count": 65,
     "metadata": {},
     "output_type": "execute_result"
    }
   ],
   "source": [
    "cust_data[cust_data['label'] == 1][['region']].value_counts()"
   ]
  },
  {
   "cell_type": "code",
   "execution_count": 66,
   "id": "48b7b3ab",
   "metadata": {},
   "outputs": [
    {
     "data": {
      "image/png": "[encoded data removed]",
      "text/plain": [
       "<Figure size 432x288 with 1 Axes>"
      ]
     },
     "metadata": {
      "needs_background": "light"
     },
     "output_type": "display_data"
    }
   ],
   "source": [
    "sns.barplot(x='label',y='class_order',data=avg_df);\n",
    "plt.title('region vs label vs ANP for each cluster');"
   ]
  },
  {
   "cell_type": "code",
   "execution_count": 67,
   "id": "fe546511",
   "metadata": {},
   "outputs": [
    {
     "data": {
      "text/plain": [
       "class_order\n",
       "2              2931\n",
       "1               865\n",
       "3               444\n",
       "4               356\n",
       "5                72\n",
       "0                21\n",
       "6                 2\n",
       "dtype: int64"
      ]
     },
     "execution_count": 67,
     "metadata": {},
     "output_type": "execute_result"
    }
   ],
   "source": [
    "cust_data[cust_data['label'] == 4][['class_order']].value_counts()"
   ]
  },
  {
   "cell_type": "code",
   "execution_count": 68,
   "id": "eb1fb463",
   "metadata": {},
   "outputs": [
    {
     "data": {
      "image/png": "[encoded data removed]",
      "text/plain": [
       "<Figure size 432x288 with 1 Axes>"
      ]
     },
     "metadata": {
      "needs_background": "light"
     },
     "output_type": "display_data"
    }
   ],
   "source": [
    "sns.barplot(x='label',y='ANP',data=avg_df);\n",
    "plt.title('region vs label vs ANP for each cluster');"
   ]
  },
  {
   "cell_type": "code",
   "execution_count": 69,
   "id": "6c0882c3",
   "metadata": {},
   "outputs": [
    {
     "data": {
      "text/html": [
       "<div>\n",
       "<style scoped>\n",
       "    .dataframe tbody tr th:only-of-type {\n",
       "        vertical-align: middle;\n",
       "    }\n",
       "\n",
       "    .dataframe tbody tr th {\n",
       "        vertical-align: top;\n",
       "    }\n",
       "\n",
       "    .dataframe thead th {\n",
       "        text-align: right;\n",
       "    }\n",
       "</style>\n",
       "<table border=\"1\" class=\"dataframe\">\n",
       "  <thead>\n",
       "    <tr style=\"text-align: right;\">\n",
       "      <th></th>\n",
       "      <th></th>\n",
       "      <th>owner_gender</th>\n",
       "    </tr>\n",
       "    <tr>\n",
       "      <th>label</th>\n",
       "      <th>owner_gender</th>\n",
       "      <th></th>\n",
       "    </tr>\n",
       "  </thead>\n",
       "  <tbody>\n",
       "    <tr>\n",
       "      <th rowspan=\"2\" valign=\"top\">0</th>\n",
       "      <th>0</th>\n",
       "      <td>3072</td>\n",
       "    </tr>\n",
       "    <tr>\n",
       "      <th>1</th>\n",
       "      <td>1402</td>\n",
       "    </tr>\n",
       "    <tr>\n",
       "      <th rowspan=\"2\" valign=\"top\">1</th>\n",
       "      <th>0</th>\n",
       "      <td>952</td>\n",
       "    </tr>\n",
       "    <tr>\n",
       "      <th>1</th>\n",
       "      <td>547</td>\n",
       "    </tr>\n",
       "    <tr>\n",
       "      <th rowspan=\"2\" valign=\"top\">2</th>\n",
       "      <th>0</th>\n",
       "      <td>3352</td>\n",
       "    </tr>\n",
       "    <tr>\n",
       "      <th>1</th>\n",
       "      <td>1787</td>\n",
       "    </tr>\n",
       "    <tr>\n",
       "      <th rowspan=\"2\" valign=\"top\">3</th>\n",
       "      <th>0</th>\n",
       "      <td>463</td>\n",
       "    </tr>\n",
       "    <tr>\n",
       "      <th>1</th>\n",
       "      <td>405</td>\n",
       "    </tr>\n",
       "    <tr>\n",
       "      <th rowspan=\"2\" valign=\"top\">4</th>\n",
       "      <th>0</th>\n",
       "      <td>3157</td>\n",
       "    </tr>\n",
       "    <tr>\n",
       "      <th>1</th>\n",
       "      <td>1534</td>\n",
       "    </tr>\n",
       "  </tbody>\n",
       "</table>\n",
       "</div>"
      ],
      "text/plain": [
       "                    owner_gender\n",
       "label owner_gender              \n",
       "0     0                     3072\n",
       "      1                     1402\n",
       "1     0                      952\n",
       "      1                      547\n",
       "2     0                     3352\n",
       "      1                     1787\n",
       "3     0                      463\n",
       "      1                      405\n",
       "4     0                     3157\n",
       "      1                     1534"
      ]
     },
     "execution_count": 69,
     "metadata": {},
     "output_type": "execute_result"
    }
   ],
   "source": [
    "# predominantly male in all clusters\n",
    "df_gender = pd.DataFrame(cust_data.groupby(['label','owner_gender'])['owner_gender'].count())\n",
    "df_gender"
   ]
  },
  {
   "cell_type": "code",
   "execution_count": 70,
   "id": "a8e79367",
   "metadata": {},
   "outputs": [
    {
     "data": {
      "image/png": "[encoded data removed]",
      "text/plain": [
       "<Figure size 1440x720 with 1 Axes>"
      ]
     },
     "metadata": {
      "needs_background": "light"
     },
     "output_type": "display_data"
    }
   ],
   "source": [
    "fig = plt.figure(figsize=(20,10))\n",
    "ax = fig.add_subplot(111, projection='3d')\n",
    "ax.scatter(cust_data.owner_age[cust_data.label == 0], cust_data['ANP'][cust_data.label == 0], cust_data['region'][cust_data.label == 0], c='blue', s=60)\n",
    "ax.scatter(cust_data.owner_age[cust_data.label == 1], cust_data['ANP'][cust_data.label == 1], cust_data['region'][cust_data.label == 1], c='red', s=60)\n",
    "ax.scatter(cust_data.owner_age[cust_data.label == 2], cust_data['ANP'][cust_data.label == 2], cust_data['region'][cust_data.label == 2], c='green', s=60)\n",
    "ax.scatter(cust_data.owner_age[cust_data.label == 3], cust_data['ANP'][cust_data.label == 3], cust_data['region'][cust_data.label == 3], c='orange', s=60)\n",
    "ax.scatter(cust_data.owner_age[cust_data.label == 4], cust_data['ANP'][cust_data.label == 4], cust_data['region'][cust_data.label == 4], c='purple', s=60)\n",
    "ax.view_init(0, 90)\n",
    "plt.xlabel('age')\n",
    "plt.ylabel('ANP')\n",
    "ax.set_zlabel('region')\n",
    "plt.show()"
   ]
  },
  {
   "cell_type": "markdown",
   "id": "1d0afd6b",
   "metadata": {},
   "source": [
    "With a few outliers, there is an obvious segregation due to region. "
   ]
  },
  {
   "cell_type": "code",
   "execution_count": 71,
   "id": "f96f3d84",
   "metadata": {},
   "outputs": [
    {
     "data": {
      "image/png": "[encoded data removed]",
      "text/plain": [
       "<Figure size 1440x720 with 1 Axes>"
      ]
     },
     "metadata": {
      "needs_background": "light"
     },
     "output_type": "display_data"
    }
   ],
   "source": [
    "fig = plt.figure(figsize=(20,10))\n",
    "ax = fig.add_subplot(111, projection='3d')\n",
    "ax.scatter(cust_data.region[cust_data.label == 0], cust_data['ANP'][cust_data.label == 0], cust_data['class_order'][cust_data.label == 0], c='blue', s=60)\n",
    "ax.scatter(cust_data.region[cust_data.label == 1], cust_data['ANP'][cust_data.label == 1], cust_data['class_order'][cust_data.label == 1], c='red', s=60)\n",
    "ax.scatter(cust_data.region[cust_data.label == 2], cust_data['ANP'][cust_data.label == 2], cust_data['class_order'][cust_data.label == 2], c='green', s=60)\n",
    "ax.scatter(cust_data.region[cust_data.label == 3], cust_data['ANP'][cust_data.label == 3], cust_data['class_order'][cust_data.label == 3], c='orange', s=60)\n",
    "ax.scatter(cust_data.region[cust_data.label == 4], cust_data['ANP'][cust_data.label == 4], cust_data['class_order'][cust_data.label == 4], c='purple', s=60)\n",
    "ax.view_init(45, 90)\n",
    "plt.xlabel('region')\n",
    "plt.ylabel('ANP')\n",
    "ax.set_zlabel('class order')\n",
    "plt.show()"
   ]
  },
  {
   "cell_type": "code",
   "execution_count": null,
   "id": "c6b0cd1e",
   "metadata": {},
   "outputs": [],
   "source": []
  }
 ],
 "metadata": {
  "kernelspec": {
   "display_name": "Python 3",
   "language": "python",
   "name": "python3"
  },
  "language_info": {
   "codemirror_mode": {
    "name": "ipython",
    "version": 3
   },
   "file_extension": ".py",
   "mimetype": "text/x-python",
   "name": "python",
   "nbconvert_exporter": "python",
   "pygments_lexer": "ipython3",
   "version": "3.8.8"
  },
  "toc": {
   "base_numbering": 1,
   "nav_menu": {},
   "number_sections": true,
   "sideBar": true,
   "skip_h1_title": false,
   "title_cell": "Table of Contents",
   "title_sidebar": "Contents",
   "toc_cell": false,
   "toc_position": {
    "height": "747px",
    "left": "858px",
    "top": "214.133px",
    "width": "226.333px"
   },
   "toc_section_display": true,
   "toc_window_display": true
  }
 },
 "nbformat": 4,
 "nbformat_minor": 5
}
